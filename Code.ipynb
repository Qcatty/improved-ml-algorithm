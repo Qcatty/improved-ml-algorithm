{
 "cells": [
  {
   "cell_type": "markdown",
   "id": "4d499751",
   "metadata": {},
   "source": [
    "# Predicting ground states for 2D Heisenberg models"
   ]
  },
  {
   "cell_type": "code",
   "execution_count": 1,
   "id": "7de9d923",
   "metadata": {},
   "outputs": [],
   "source": [
    "# Basic functionalities\n",
    "import numpy as np\n",
    "import random\n",
    "import copy\n",
    "import ast\n",
    "import datetime as dt\n",
    "from timeit import default_timer as timer\n",
    "from os import path\n",
    "\n",
    "# Neural tangent kernel\n",
    "import jax\n",
    "from neural_tangents import stax\n",
    "\n",
    "# Traditional ML methods and techniques\n",
    "from sklearn.model_selection import train_test_split, cross_val_score\n",
    "from sklearn import datasets\n",
    "from sklearn import svm\n",
    "from sklearn import linear_model\n",
    "from sklearn.kernel_ridge import KernelRidge\n",
    "from sklearn.ensemble import RandomForestRegressor"
   ]
  },
  {
   "cell_type": "code",
   "execution_count": 2,
   "id": "66d17dc2",
   "metadata": {},
   "outputs": [],
   "source": [
    "# Load data\n",
    "\n",
    "length = 8 # length = 4, 5, 6, 7, 8, 9 for orig; only 4, 5, 6, 7 for new\n",
    "width = 5\n",
    "\n",
    "shadow_size = 500 # up to 1000\n",
    "\n",
    "Xfull = [] # Shape = (number of data) x (number of params)\n",
    "Ytrain = [] # Shape = (number of data) x (number of pairs), estimated 2-point correlation functions\n",
    "Yfull = [] # Shape = (number of data) x (number of pairs), exact 2-point correlation functions\n",
    "\n",
    "def get_path_prefix(data='orig'):\n",
    "    prefix = './heisenberg_data/heisenberg_{}x{}'.format(length, width)\n",
    "    if data == 'new':\n",
    "        prefix = './new_data/data_{}x{}/simulation_{}x{}'.format(length, width, length, width)\n",
    "    return prefix\n",
    "    \n",
    "data_name = 'orig'\n",
    "prefix = get_path_prefix(data=data_name)\n",
    "\n",
    "for idx in range(1, 301):\n",
    "    if path.exists('{}_id{}_XX.txt'.format(prefix, idx)) == False:\n",
    "        continue\n",
    "    with open('{}_id{}_samples.txt'.format(prefix, idx), 'r') as f:\n",
    "        single_data = []\n",
    "        classical_shadow_big = [[int(c) for i, c in enumerate(line.split(\"\\t\"))] for line in f]\n",
    "        classical_shadow = classical_shadow_big[0:shadow_size]\n",
    "        for i in range(length * 5):\n",
    "            for j in range(length * 5):\n",
    "                if i == j:\n",
    "                    single_data.append(1.0)\n",
    "                    continue\n",
    "                corr = 0\n",
    "                cnt = 0\n",
    "                for shadow in classical_shadow:\n",
    "                    if shadow[i] // 2 == shadow[j] // 2:\n",
    "                        corr += 3 if shadow[i] % 2 == shadow[j] % 2 else -3\n",
    "                    cnt += 1\n",
    "                single_data.append(corr / cnt)\n",
    "        Ytrain.append(single_data)\n",
    "    with open('{}_id{}_XX.txt'.format(prefix, idx), 'r') as f:\n",
    "        single_data = []\n",
    "        for line in f:\n",
    "            for i, c in enumerate(line.split(\"\\t\")):\n",
    "                v = float(c)\n",
    "                single_data.append(v)\n",
    "        Yfull.append(single_data)\n",
    "    with open('{}_id{}_couplings.txt'.format(prefix, idx), 'r') as f:\n",
    "        single_data = []\n",
    "        for line in f:\n",
    "            for i, c in enumerate(line.split(\"\\t\")):\n",
    "                v = float(c)\n",
    "                single_data.append(v)\n",
    "        Xfull.append(single_data)"
   ]
  },
  {
   "cell_type": "code",
   "execution_count": 3,
   "id": "bee93cf7",
   "metadata": {
    "scrolled": true
   },
   "outputs": [
    {
     "name": "stdout",
     "output_type": "stream",
     "text": [
      "number of data (N) * number of params (m) = (92, 67)\n",
      "number of data (N) * number of pairs = (92, 1600)\n"
     ]
    }
   ],
   "source": [
    "# Print information\n",
    "\n",
    "Xfull = np.array(Xfull)\n",
    "print(\"number of data (N) * number of params (m) =\", Xfull.shape)\n",
    "Ytrain = np.array(Ytrain)\n",
    "Yfull = np.array(Yfull)\n",
    "print(\"number of data (N) * number of pairs =\", Yfull.shape)"
   ]
  },
  {
   "cell_type": "code",
   "execution_count": 4,
   "id": "edb26787",
   "metadata": {},
   "outputs": [
    {
     "name": "stdout",
     "output_type": "stream",
     "text": [
      "[ 1.81919825e-01  5.33921021e-01  1.32691899e-01 -7.96704066e-02\n",
      "  5.88393286e-01  7.08667985e-01 -5.98811194e-01 -4.02701000e-01\n",
      " -5.06283551e-01  1.59568894e-01  2.98026246e-01 -9.78275406e-01\n",
      " -8.67210695e-01  9.13937747e-01  2.93643108e-01 -7.75059790e-01\n",
      " -4.47900034e-01  3.03592282e-01 -8.86777190e-01  6.85795773e-01\n",
      "  9.01424407e-01  9.29774910e-01  8.91975816e-01  5.80146972e-01\n",
      "  6.42677573e-01 -9.31754228e-01 -8.10952383e-01 -3.70068172e-01\n",
      " -7.44403339e-01 -2.51514723e-01  8.62647276e-01 -1.21974758e-01\n",
      " -5.06232950e-01 -9.76447517e-01 -9.07982281e-01 -7.48397695e-03\n",
      "  4.64308646e-01 -4.01814261e-01 -1.01482847e-01  7.50578811e-01\n",
      " -9.07490317e-01  3.97000462e-01 -2.69674391e-01 -3.94971855e-01\n",
      " -2.54738153e-01 -6.98995046e-01 -7.05353677e-01 -4.33135271e-01\n",
      " -1.89965630e-01 -7.57992179e-04  3.17897355e-01  3.14437744e-02\n",
      " -4.78519868e-01  1.91274078e-01 -4.15009880e-01 -4.22775354e-01\n",
      "  2.36565108e-01  3.28790405e-01  5.07335903e-01 -9.26304587e-01\n",
      "  2.87668071e-01 -1.97032102e-01  5.03090934e-02  2.24261759e-01\n",
      " -1.34703103e-01 -8.35634063e-01 -6.01868121e-01]\n"
     ]
    }
   ],
   "source": [
    "# Normalize Xfull\n",
    "\n",
    "xmin = np.amin(Xfull)\n",
    "xmax = np.amax(Xfull)\n",
    "\n",
    "# normalize so that all entries are between -1 and 1 using min-max feature scaling\n",
    "Xfull_norm = np.array(list(map(lambda row : list(map(lambda x : -1 + 2*(x - xmin)/(xmax - xmin), row)), Xfull)))\n",
    "\n",
    "print(Xfull_norm[0])"
   ]
  },
  {
   "cell_type": "code",
   "execution_count": 5,
   "id": "abfbf14a",
   "metadata": {},
   "outputs": [
    {
     "name": "stdout",
     "output_type": "stream",
     "text": [
      "[(1, 6), (1, 2), (2, 7), (2, 3), (3, 8), (3, 4), (4, 9), (4, 5), (5, 10), (6, 11), (6, 7), (7, 12), (7, 8), (8, 13), (8, 9), (9, 14), (9, 10), (10, 15), (11, 16), (11, 12), (12, 17), (12, 13), (13, 18), (13, 14), (14, 19), (14, 15), (15, 20), (16, 21), (16, 17), (17, 22), (17, 18), (18, 23), (18, 19), (19, 24), (19, 20), (20, 25), (21, 26), (21, 22), (22, 27), (22, 23), (23, 28), (23, 24), (24, 29), (24, 25), (25, 30), (26, 31), (26, 27), (27, 32), (27, 28), (28, 33), (28, 29), (29, 34), (29, 30), (30, 35), (31, 36), (31, 32), (32, 37), (32, 33), (33, 38), (33, 34), (34, 39), (34, 35), (35, 40), (36, 37), (37, 38), (38, 39), (39, 40)]\n"
     ]
    }
   ],
   "source": [
    "# Categorizing pairs of qubits by distance\n",
    "\n",
    "# grid of qubits\n",
    "grid = np.array(range(1, length * width + 1)).reshape((length, width))\n",
    "\n",
    "# generate all edges in grid in same order as Xfull\n",
    "all_edges = []\n",
    "for i in range(0, length):\n",
    "    for j in range(1, width + 1):\n",
    "        if i != length - 1:\n",
    "            all_edges.append((width * i + j, width * (i + 1) + j))\n",
    "        if j != width:\n",
    "            all_edges.append((width * i + j, width * i + j + 1))\n",
    "print(all_edges)\n",
    "            \n",
    "def calc_distance(q1, q2):\n",
    "    # Given two qubits q1, q2 (1-indexed integers) in length x width grid\n",
    "    # Output l1 distance between q1 and q2 in grid\n",
    "\n",
    "    pos1 = np.array(np.where(grid == q1)).T[0]\n",
    "    pos2 = np.array(np.where(grid == q2)).T[0]\n",
    "\n",
    "    return np.abs(pos1[0] - pos2[0]) + np.abs(pos1[1] - pos2[1])\n",
    "\n",
    "def get_nearby_qubit_pairs(d):\n",
    "    # Given distance d > 0\n",
    "    # Output all pairs of qubits that are within distance d of each other\n",
    "    \n",
    "    if d == 1:\n",
    "        return all_edges\n",
    "    \n",
    "    qubit_pairs = []\n",
    "    for q1 in range(1, length * width + 1):\n",
    "        for q2 in range(1, length * width + 1):\n",
    "            dist = calc_distance(q1, q2)\n",
    "            pair = tuple(sorted((q1, q2)))\n",
    "            if dist == d and pair not in qubit_pairs:\n",
    "                qubit_pairs.append(pair)\n",
    "    \n",
    "    return qubit_pairs\n",
    "            "
   ]
  },
  {
   "cell_type": "code",
   "execution_count": 6,
   "id": "9441798d",
   "metadata": {},
   "outputs": [],
   "source": [
    "# Finding local patches of a given radius\n",
    "\n",
    "def get_local_region_qubits(q, delta1):\n",
    "    # Given a qubit q (1-indexed integer) in length x width grid and radius delta1\n",
    "    # delta1 = -1 if all qubits are in local region\n",
    "    # Output list of qubits (1-indexed integers) within a radius of delta1 of q\n",
    "    \n",
    "    if delta1 == 0:\n",
    "        return [q]\n",
    "    elif delta1 == -1:\n",
    "        return list(range(1, length * width + 1))\n",
    "    \n",
    "    local_qubits = []\n",
    "    for q2 in range(1, length * width + 1):\n",
    "        dist = calc_distance(q, q2)\n",
    "        \n",
    "        if dist <= delta1:\n",
    "            local_qubits.append(q2)\n",
    "    \n",
    "    return local_qubits\n",
    "\n",
    "def get_local_region_edges(q1, q2, delta1):\n",
    "    # Given two qubits q1, q2 (1-indexed integers) in length x width grid and radius delta1\n",
    "    # delta1 = -1 if all qubits are in local region\n",
    "    # Output list of tuples of qubits (1-indexed integers) corresponding to edges in local region of radius delta1\n",
    "\n",
    "    if delta1 == 0:\n",
    "        return [(q1, q2)]\n",
    "    elif delta1 == -1:\n",
    "        return all_edges\n",
    "\n",
    "    local_qubits = list(set(get_local_region_qubits(q1, delta1) + get_local_region_qubits(q2, delta1)))\n",
    "    \n",
    "    local_edges = []\n",
    "    for edge in all_edges:\n",
    "        (q1, q2) = edge\n",
    "        if q1 in local_qubits and q2 in local_qubits:\n",
    "            local_edges.append(edge)\n",
    "\n",
    "    return local_edges\n",
    "\n",
    "def get_local_region_params(q1, q2, delta1, data, i):\n",
    "    # Given two qubits q1, q2 (1-indexed integers) in length x width grid, radius delta1, and input data (i.e., Xfull)\n",
    "    # delta1 = -1 if all qubits are considered nearby\n",
    "    # Output data but only for parameters corresponding to edges within radius delta1\n",
    "    \n",
    "    edges = get_local_region_edges(q1, q2, delta1)\n",
    "    \n",
    "    indices = [all_edges.index(edge) for edge in edges]\n",
    "    \n",
    "    return np.array([data[i][j] for j in sorted(indices)])\n",
    "    "
   ]
  },
  {
   "cell_type": "code",
   "execution_count": 7,
   "id": "5c47e382",
   "metadata": {},
   "outputs": [
    {
     "name": "stdout",
     "output_type": "stream",
     "text": [
      "edges: [(1, 6), (1, 2), (2, 7), (2, 3), (6, 7)]\n",
      "params: [ 0.18191983  0.53392102  0.1326919  -0.07967041  0.29802625]\n"
     ]
    }
   ],
   "source": [
    "print('edges: ' + str(get_local_region_edges(1,2,1)))\n",
    "print('params: ' + str(get_local_region_params(1,2,1, Xfull_norm, 0)))"
   ]
  },
  {
   "cell_type": "code",
   "execution_count": 8,
   "id": "5465a6d7",
   "metadata": {},
   "outputs": [],
   "source": [
    "# Feature mapping using random Fourier features\n",
    "\n",
    "def get_feature_vectors(delta1, R, data, omega, gamma=1.0, q1=0, q2=1):\n",
    "    # Given radius delta1 and hyperparameter R (number of nonlinear features per local region), input data, and fixed randomness omega\n",
    "    # delta1 = -1 if all qubits are considered nearby\n",
    "    # Output concatenated feature vectors\n",
    "    \n",
    "    # to store all concatenated feature vectors\n",
    "    all_feature_vectors = []\n",
    "    \n",
    "    for i in range(len(data)):\n",
    "        feature_vector_concat = []\n",
    "        # iterate over all possible local regions\n",
    "        n = len(all_edges)\n",
    "        for k in range(n):\n",
    "            (q1, q2) = all_edges[k]\n",
    "            data_local = get_local_region_params(q1, q2, delta1, data, i)\n",
    "            m_local = len(data_local)\n",
    "\n",
    "            # do nonlinear feature map on each vector in data_local\n",
    "            feature_vector = []\n",
    "\n",
    "            for j in range(R):\n",
    "                omega_j = omega[k][j]\n",
    "                val = np.exp(np.dot(omega_j, data_local) * gamma / (m_local ** 0.5) * 1j)\n",
    "                feature_vector.append(np.real(val))\n",
    "                feature_vector.append(np.imag(val))\n",
    "\n",
    "            # concatenate feature vectors together\n",
    "            feature_vector_concat += feature_vector\n",
    "            \n",
    "        all_feature_vectors.append(feature_vector_concat)\n",
    "        \n",
    "    # note all_feature_vectors is of size number of data (N) x (2 * R * number of local regions)\n",
    "    return np.array(all_feature_vectors)\n",
    "        "
   ]
  },
  {
   "cell_type": "code",
   "execution_count": 10,
   "id": "ff0fc07e",
   "metadata": {},
   "outputs": [
    {
     "name": "stdout",
     "output_type": "stream",
     "text": [
      "[(1, 6), (1, 2), (2, 7), (2, 3), (3, 8), (3, 4), (4, 9), (4, 5), (5, 10), (6, 11), (6, 7), (7, 12), (7, 8), (8, 13), (8, 9), (9, 14), (9, 10), (10, 15), (11, 16), (11, 12), (12, 17), (12, 13), (13, 18), (13, 14), (14, 19), (14, 15), (15, 20), (16, 21), (16, 17), (17, 22), (17, 18), (18, 23), (18, 19), (19, 24), (19, 20), (20, 25), (21, 26), (21, 22), (22, 27), (22, 23), (23, 28), (23, 24), (24, 29), (24, 25), (25, 30), (26, 31), (26, 27), (27, 32), (27, 28), (28, 33), (28, 29), (29, 34), (29, 30), (30, 35), (31, 36), (31, 32), (32, 37), (32, 33), (33, 38), (33, 34), (34, 39), (34, 35), (35, 40), (36, 37), (37, 38), (38, 39), (39, 40)]\n",
      "(q1, q2) = (1, 6)\n",
      "(q1, q2) = (1, 2)\n",
      "(q1, q2) = (2, 7)\n",
      "(q1, q2) = (2, 3)\n",
      "(q1, q2) = (3, 8)\n",
      "(q1, q2) = (3, 4)\n",
      "(q1, q2) = (4, 9)\n",
      "(q1, q2) = (4, 5)\n",
      "(q1, q2) = (5, 10)\n",
      "(q1, q2) = (6, 11)\n",
      "(q1, q2) = (6, 7)\n",
      "(q1, q2) = (7, 12)\n",
      "(q1, q2) = (7, 8)\n",
      "(q1, q2) = (8, 13)\n",
      "(q1, q2) = (8, 9)\n",
      "(q1, q2) = (9, 14)\n",
      "(q1, q2) = (9, 10)\n",
      "(q1, q2) = (10, 15)\n",
      "(q1, q2) = (11, 16)\n",
      "(q1, q2) = (11, 12)\n",
      "(q1, q2) = (12, 17)\n",
      "(q1, q2) = (12, 13)\n",
      "(q1, q2) = (13, 18)\n",
      "(q1, q2) = (13, 14)\n",
      "(q1, q2) = (14, 19)\n",
      "(q1, q2) = (14, 15)\n",
      "(q1, q2) = (15, 20)\n",
      "(q1, q2) = (16, 21)\n",
      "(q1, q2) = (16, 17)\n",
      "(q1, q2) = (17, 22)\n",
      "(q1, q2) = (17, 18)\n",
      "(q1, q2) = (18, 23)\n",
      "(q1, q2) = (18, 19)\n",
      "(q1, q2) = (19, 24)\n",
      "(q1, q2) = (19, 20)\n",
      "(q1, q2) = (20, 25)\n",
      "(q1, q2) = (21, 26)\n",
      "(q1, q2) = (21, 22)\n",
      "(q1, q2) = (22, 27)\n",
      "(q1, q2) = (22, 23)\n",
      "(q1, q2) = (23, 28)\n",
      "(q1, q2) = (23, 24)\n",
      "(q1, q2) = (24, 29)\n",
      "(q1, q2) = (24, 25)\n",
      "(q1, q2) = (25, 30)\n",
      "(q1, q2) = (26, 31)\n",
      "(q1, q2) = (26, 27)\n",
      "(q1, q2) = (27, 32)\n",
      "(q1, q2) = (27, 28)\n",
      "(q1, q2) = (28, 33)\n",
      "(q1, q2) = (28, 29)\n",
      "(q1, q2) = (29, 34)\n",
      "(q1, q2) = (29, 30)\n",
      "(q1, q2) = (30, 35)\n",
      "(q1, q2) = (31, 36)\n",
      "(q1, q2) = (31, 32)\n",
      "(q1, q2) = (32, 37)\n",
      "(q1, q2) = (32, 33)\n",
      "(q1, q2) = (33, 38)\n",
      "(q1, q2) = (33, 34)\n",
      "(q1, q2) = (34, 39)\n",
      "(q1, q2) = (34, 35)\n",
      "(q1, q2) = (35, 40)\n",
      "(q1, q2) = (36, 37)\n",
      "(q1, q2) = (37, 38)\n",
      "(q1, q2) = (38, 39)\n",
      "(q1, q2) = (39, 40)\n"
     ]
    }
   ],
   "source": [
    "# Training and testing algorithm\n",
    "\n",
    "# set size of local region\n",
    "delta1 = 0\n",
    "\n",
    "# set max number of feature entries\n",
    "max_R = 1000\n",
    "\n",
    "# set of pairs of qubits we care about predicting correlation function for\n",
    "for d in [1, 2, 3]:\n",
    "    qubits = get_nearby_qubit_pairs(d)\n",
    "    print(qubits)\n",
    "\n",
    "    # set test size\n",
    "    test_size = 0.5\n",
    "\n",
    "    train_idx, test_idx, _, _ = train_test_split(range(len(Xfull)), range(len(Xfull)), test_size=test_size, random_state=0)\n",
    "\n",
    "    # generate omega to pass into feature mapping\n",
    "    omega = []\n",
    "    for (q1, q2) in all_edges:\n",
    "        m_local = len(get_local_region_edges(q1, q2, delta1))\n",
    "        omega_sub = []\n",
    "        for j in range(max_R):\n",
    "            omega_sub.append(np.random.normal(0, 1, m_local))\n",
    "        omega.append(omega_sub)\n",
    "\n",
    "    data_path = './clean_results/new_algorithm/test_size={}_shadow_size={}_d={}'.format(test_size, shadow_size, d)\n",
    "    with open('{}/results_{}x{}_{}_data.txt'.format(data_path, length, width, data_name), 'w') as f1, open('{}/coefficients_{}x{}_{}_data.txt'.format(data_path, length, width, data_name), 'w') as f2:\n",
    "        for (q1, q2) in qubits:\n",
    "            print('(q1, q2) =', (q1, q2))\n",
    "            print('(q1, q2) =', (q1, q2), file=f1)\n",
    "            print('(q1, q2) =', (q1, q2), file=f2)\n",
    "\n",
    "            def train_and_predict():\n",
    "                # consider the pair (q1, q2)\n",
    "                global q1, q2\n",
    "\n",
    "                # training data (estimated from measurement data)\n",
    "                y = np.array([Ytrain[i].reshape((length * width, length * width))[q1 - 1][q2 - 1] for i in range(len(Xfull))])\n",
    "                X_train, X_test, y_train, y_test = train_test_split(Xfull_norm, y, test_size=test_size, random_state=0)\n",
    "\n",
    "                # testing data (exact expectation values)\n",
    "                y_clean = np.array([Yfull[i].reshape((length * width, length * width))[q1 - 1][q2 - 1] for i in range(len(Xfull))])\n",
    "                _, _, _, y_test_clean = train_test_split(Xfull_norm, y_clean, test_size=test_size, random_state=0)\n",
    "\n",
    "                # use cross validation to find the best hyperparameters\n",
    "                best_cv_score, test_score = 999.0, 999.0\n",
    "                ML_method = lambda Cx : linear_model.Lasso(alpha=Cx, max_iter=10000)\n",
    "                best_coef = []\n",
    "                #ML_method = lambda Cx: KernelRidge(kernel='linear', alpha=Cx)\n",
    "\n",
    "                for R in [5, 10, 20, 40]:\n",
    "                    for gamma in [0.4, 0.5, 0.6, 0.65, 0.7, 0.75]:\n",
    "                        # feature mapping\n",
    "                        Xfeature_train = get_feature_vectors(delta1, R, X_train, omega, gamma, q1, q2)\n",
    "                        Xfeature_test = get_feature_vectors(delta1, R, X_test, omega, gamma, q1, q2)\n",
    "\n",
    "                        for alpha in [2**(-8), 2**(-7), 2**(-6), 2**(-5)]:\n",
    "                            score = -np.mean(cross_val_score(ML_method(alpha), Xfeature_train, y_train, cv=4, scoring=\"neg_root_mean_squared_error\"))\n",
    "                            if best_cv_score > score:\n",
    "                                clf = ML_method(alpha).fit(Xfeature_train, y_train.ravel())\n",
    "                                test_score = np.linalg.norm(clf.predict(Xfeature_test).ravel() - y_test_clean.ravel()) / (len(y_test) ** 0.5)\n",
    "                                best_cv_score = score\n",
    "                                best_coef = clf.coef_.reshape((len(all_edges), 2 * R))\n",
    "\n",
    "                coef_edges = list(zip(all_edges, np.linalg.norm(best_coef, axis=1)))\n",
    "                return best_cv_score, test_score, coef_edges\n",
    "\n",
    "            print(train_and_predict()[0:2], file=f1)\n",
    "            print(train_and_predict()[2], file=f2)"
   ]
  },
  {
   "cell_type": "code",
   "execution_count": 200,
   "id": "3b8b3d65",
   "metadata": {},
   "outputs": [
    {
     "name": "stdout",
     "output_type": "stream",
     "text": [
      "constructed Dirichlet kernel\n",
      "constructed neural tangent kernel\n",
      "RBF kernel (will be constructed in sklearn)\n"
     ]
    }
   ],
   "source": [
    "# Original method from Huang et al, 2022\n",
    "# Kernel construction\n",
    "\n",
    "#\n",
    "# Dirichlet kernel\n",
    "#\n",
    "\n",
    "kernel_dir = np.zeros((len(Xfull), Xfull.shape[1]*4))\n",
    "for i, x1 in enumerate(Xfull):\n",
    "    cnt = 0\n",
    "    for k in range(len(x1)):\n",
    "        kernel_dir[i, cnt] = x1[k]\n",
    "        cnt += 1\n",
    "        for k1 in range(-1, 2):\n",
    "            kernel_dir[i, cnt] = np.cos(np.pi * k1 * x1[k])\n",
    "            cnt += 1\n",
    "print(\"constructed Dirichlet kernel\")\n",
    "            \n",
    "#\n",
    "# Neural tangent kernel\n",
    "#\n",
    "    \n",
    "init_fn, apply_fn, kernel_fn = stax.serial(\n",
    "    stax.Dense(32), stax.Relu(),\n",
    "    stax.Dense(32), stax.Relu(),\n",
    "    stax.Dense(1)\n",
    ")\n",
    "kernel_NN2 = kernel_fn(Xfull, Xfull, 'ntk')\n",
    "\n",
    "init_fn, apply_fn, kernel_fn = stax.serial(\n",
    "    stax.Dense(32), stax.Relu(),\n",
    "    stax.Dense(32), stax.Relu(),\n",
    "    stax.Dense(32), stax.Relu(),\n",
    "    stax.Dense(1)\n",
    ")\n",
    "kernel_NN3 = kernel_fn(Xfull, Xfull, 'ntk')\n",
    "                \n",
    "init_fn, apply_fn, kernel_fn = stax.serial(\n",
    "    stax.Dense(32), stax.Relu(),\n",
    "    stax.Dense(32), stax.Relu(),\n",
    "    stax.Dense(32), stax.Relu(),\n",
    "    stax.Dense(32), stax.Relu(),\n",
    "    stax.Dense(1)\n",
    ")\n",
    "kernel_NN4 = kernel_fn(Xfull, Xfull, 'ntk')\n",
    "\n",
    "init_fn, apply_fn, kernel_fn = stax.serial(\n",
    "    stax.Dense(32), stax.Relu(),\n",
    "    stax.Dense(32), stax.Relu(),\n",
    "    stax.Dense(32), stax.Relu(),\n",
    "    stax.Dense(32), stax.Relu(),\n",
    "    stax.Dense(32), stax.Relu(),\n",
    "    stax.Dense(1)\n",
    ")\n",
    "kernel_NN5 = kernel_fn(Xfull, Xfull, 'ntk')\n",
    "\n",
    "list_kernel_NN = [kernel_NN2, kernel_NN3, kernel_NN4, kernel_NN5]\n",
    "\n",
    "for r in range(len(list_kernel_NN)):\n",
    "    kernel = list_kernel_NN[r].copy()\n",
    "    for i in range(len(list_kernel_NN[r])):\n",
    "        for j in range(len(list_kernel_NN[r])):\n",
    "            # list_kernel_NN[r][i][j] /= (list_kernel_NN[r][i][i] * list_kernel_NN[r][j][j]) ** 0.5\n",
    "            list_kernel_NN[r][i].at[j].divide((kernel[i][i] * kernel[j][j]) ** 0.5)\n",
    "print(\"constructed neural tangent kernel\")\n",
    "            \n",
    "#\n",
    "# RBF kernel is defined in Sklearn\n",
    "#\n",
    "print(\"RBF kernel (will be constructed in sklearn)\")\n"
   ]
  },
  {
   "cell_type": "code",
   "execution_count": 201,
   "id": "11d497a9",
   "metadata": {},
   "outputs": [
    {
     "name": "stdout",
     "output_type": "stream",
     "text": [
      "(q1, q2) = (4, 5)\n",
      "Dirich. kernel (0.2524725471445278, 0.24720161876210964)\n",
      "Gaussi. kernel (0.18580648811215386, 0.19334888028240627)\n",
      "Neur. T kernel (0.13558781374889525, 0.1640358656018234)\n",
      "Neur. T kernel (0.1397908436522027, 0.16704989523840308)\n",
      "Neur. T kernel (0.16193101833276144, 0.18731811705888335)\n",
      "Neur. T kernel (0.19950551325783114, 0.21130932478677994)\n"
     ]
    }
   ],
   "source": [
    "# Training and testing algorithm for original method from Huang et al, 2022\n",
    "\n",
    "# set of pairs of qubits we care about predicting correlation function for\n",
    "for d in [1, 2, 3]:\n",
    "    qubits = get_nearby_qubit_pairs(d)\n",
    "\n",
    "    test_size = 0.5\n",
    "\n",
    "    train_idx, test_idx, _, _ = train_test_split(range(len(Xfull)), range(len(Xfull)), test_size=test_size, random_state=0)\n",
    "\n",
    "    with open('./clean_results/orig_algorithm/test_size={}_shadow_size={}_qubits_d={}/results_{}x{}_{}_data.txt'.format(test_size, shadow_size, d, length, width, data_name), 'w') as f:\n",
    "        for (q1, q2) in qubits:\n",
    "            # each k corresponds to the correlation function in a pair of qubits\n",
    "            print(\"(q1, q2) = ({}, {})\".format(q1, q2))\n",
    "            #print(\"k =\", k, file=f)\n",
    "\n",
    "            def train_and_predict(kernel, opt=\"linear\"): # opt=\"linear\" or \"rbf\"\n",
    "\n",
    "                # instance-wise normalization\n",
    "                for i in range(len(kernel)):\n",
    "                    if type(kernel) == np.ndarray:\n",
    "                        kernel[i] /= np.linalg.norm(kernel[i])\n",
    "                    else:\n",
    "                        kernel.at[i].divide(np.linalg.norm(kernel[i]))\n",
    "\n",
    "                # consider the k-th pair\n",
    "                global q1, q2\n",
    "\n",
    "                # training data (estimated from measurement data)\n",
    "                y = np.array([Ytrain[i].reshape((length * width, length * width))[q1 - 1][q2 - 1] for i in range(len(Xfull))])\n",
    "                X_train, X_test, y_train, y_test = train_test_split(kernel, y, test_size=test_size, random_state=0)\n",
    "\n",
    "                # testing data (exact expectation values)\n",
    "                y_clean = np.array([Yfull[i].reshape((length * width, length * width))[q1 - 1][q2 - 1] for i in range(len(Xfull))])\n",
    "                _, _, _, y_test_clean = train_test_split(kernel, y_clean, test_size=test_size, random_state=0)\n",
    "\n",
    "                # use cross validation to find the best method + hyper-param\n",
    "                best_cv_score, test_score = 999.0, 999.0\n",
    "                for ML_method in [(lambda Cx: svm.SVR(kernel=opt, C=Cx)), (lambda Cx: KernelRidge(kernel=opt, alpha=1/(2*Cx)))]:\n",
    "                    for C in [0.0125, 0.025, 0.05, 0.125, 0.25, 0.5, 1.0, 2.0]:\n",
    "                        score = -np.mean(cross_val_score(ML_method(C), X_train, y_train, cv=5, scoring=\"neg_root_mean_squared_error\"))\n",
    "                        if best_cv_score > score:\n",
    "                            clf = ML_method(C).fit(X_train, y_train.ravel())\n",
    "                            test_score = np.linalg.norm(clf.predict(X_test).ravel() - y_test_clean.ravel()) / (len(y_test) ** 0.5)\n",
    "                            best_cv_score = score\n",
    "\n",
    "                return best_cv_score, test_score\n",
    "\n",
    "            # Dirichlet\n",
    "            print(\"Dirich. kernel\", train_and_predict(kernel_dir), file=f)\n",
    "            print(\"Dirich. kernel\", train_and_predict(kernel_dir))\n",
    "            # RBF\n",
    "            print(\"Gaussi. kernel\", train_and_predict(Xfull, opt=\"rbf\"), file=f)\n",
    "            print(\"Gaussi. kernel\", train_and_predict(Xfull, opt=\"rbf\"))\n",
    "            # Neural tangent\n",
    "            for kernel_NN in list_kernel_NN:\n",
    "                print(\"Neur. T kernel\", train_and_predict(kernel_NN), file=f)\n",
    "                print(\"Neur. T kernel\", train_and_predict(kernel_NN))"
   ]
  },
  {
   "cell_type": "code",
   "execution_count": 1,
   "id": "f790a8db",
   "metadata": {},
   "outputs": [],
   "source": [
    "# Post-processing, store all runs in dataframe\n",
    "\n",
    "import os\n",
    "import numpy as np\n",
    "import pandas as pd\n",
    "import ast\n",
    "import copy\n",
    "\n",
    "width = 5\n",
    "data = []\n",
    "\n",
    "for data_name in ['orig']:\n",
    "    length_range = list(range(4, 10))\n",
    "\n",
    "    for length in length_range:\n",
    "        for test_size in [0.1, 0.3, 0.5, 0.7, 0.9]:\n",
    "            for shadow_size in [50, 100, 250, 500, 1000]:\n",
    "                for d in [1]:\n",
    "                    # calculate training data size\n",
    "                    total_data_size = 300\n",
    "                    if data_name == 'orig' and (length == 4 or length == 5 or length == 7):\n",
    "                        total_data_size = 100\n",
    "                    elif data_name == 'orig' and length == 6:\n",
    "                        total_data_size = 97\n",
    "                    elif data_name == 'orig' and length == 8:\n",
    "                        total_data_size = 92\n",
    "                    elif data_name == 'orig' and length == 9:\n",
    "                        total_data_size = 89\n",
    "                    training_size = (1 - test_size) * total_data_size\n",
    "\n",
    "\n",
    "                    row = ['{}x{}'.format(length, width), d, data_name, training_size, shadow_size, 'Best Previous']\n",
    "                    # do processing for previous algorithm\n",
    "                    orig_alg_file = './clean_results/orig_algorithm_processed/test_size={}_shadow_size={}_qubits_d={}/results_{}x{}_{}_data.txt'.format(test_size, shadow_size, d, length, width, data_name)\n",
    "                    if test_size == 0.5 and shadow_size == 500:\n",
    "                        for seed in ['4']:\n",
    "                            new_alg_file = './clean_results/new_algorithm/test_size=0.5_shadow_size=500_d=1_extraruns/results_{}x{}_{}_data{}.txt'.format(length, width, data_name, seed)\n",
    "\n",
    "                            # do processing for new algorithm\n",
    "                            row = ['{}x{}'.format(length, width), d, data_name, training_size, shadow_size, 'New']\n",
    "                            if os.path.exists(new_alg_file):\n",
    "                                r = open(new_alg_file, 'r')\n",
    "                                for line in r:\n",
    "                                    if line[0:3] != '(q1':\n",
    "                                        row_pair = copy.deepcopy(row)\n",
    "                                        row_pair.append(ast.literal_eval(line)[1])\n",
    "                                        data.append(row_pair)\n",
    "                                        \n",
    "                        # remove and statement if want all data for previous algorithm\n",
    "                        if os.path.exists(orig_alg_file) and os.path.exists(new_alg_file):\n",
    "                            r = open(orig_alg_file, 'r')\n",
    "                            method_counter = 1\n",
    "                            for line in r:\n",
    "                                if line[0:3] != '(q1':\n",
    "                                    row[-1] = 'Best Previous' + str(method_counter)\n",
    "                                    row_pair = copy.deepcopy(row)\n",
    "                                    row_pair.append(ast.literal_eval(line[15:])[1])\n",
    "                                    if method_counter <= 3: data.append(row_pair)\n",
    "\n",
    "                                    method_counter += 1\n",
    "                                    if method_counter > 6:\n",
    "                                        method_counter = 1\n",
    "\n",
    "                    else:\n",
    "                        new_alg_file = './clean_results/new_algorithm/test_size={}_shadow_size={}_qubits_d={}/results_{}x{}_{}_data.txt'.format(test_size, shadow_size, d, length, width, data_name)\n",
    "\n",
    "                        # remove and statement if want all data for previous algorithm\n",
    "                        if os.path.exists(orig_alg_file) and os.path.exists(new_alg_file):\n",
    "                            r = open(orig_alg_file, 'r')\n",
    "                            method_counter = 1\n",
    "                            for line in r:\n",
    "                                if line[0:3] != '(q1':\n",
    "                                    row[-1] = 'Best Previous' + str(method_counter)\n",
    "                                    row_pair = copy.deepcopy(row)\n",
    "                                    row_pair.append(ast.literal_eval(line[15:])[1])\n",
    "                                    if method_counter <= 3: data.append(row_pair)\n",
    "\n",
    "                                    method_counter += 1\n",
    "                                    if method_counter > 6:\n",
    "                                        method_counter = 1\n",
    "\n",
    "                        # do processing for new algorithm\n",
    "                        row = ['{}x{}'.format(length, width), d, data_name, training_size, shadow_size, 'New']\n",
    "                        new_alg_file = './clean_results/new_algorithm/test_size={}_shadow_size={}_qubits_d={}/results_{}x{}_{}_data.txt'.format(test_size, shadow_size, d, length, width, data_name)\n",
    "                        if os.path.exists(new_alg_file):\n",
    "                            r = open(new_alg_file, 'r')\n",
    "                            for line in r:\n",
    "                                if line[0:3] != '(q1':\n",
    "                                    row_pair = copy.deepcopy(row)\n",
    "                                    row_pair.append(ast.literal_eval(line)[1])\n",
    "                                    data.append(row_pair)\n",
    "\n",
    "df = pd.DataFrame(data, columns=['System Size', 'Distance', 'Data Set', 'Training Size', 'Shadow Size', 'Algorithm', 'Avg Prediction Error'])\n",
    "df.to_excel('./clean_results/results_new.xlsx')"
   ]
  },
  {
   "cell_type": "code",
   "execution_count": 2,
   "id": "30ae899d",
   "metadata": {},
   "outputs": [
    {
     "name": "stdout",
     "output_type": "stream",
     "text": [
      "       Unnamed: 0 System Size  Distance Data Set  Training Size  Shadow Size  \\\n",
      "0               0         4x5         1     orig           90.0           50   \n",
      "1               1         4x5         1     orig           90.0           50   \n",
      "2               2         4x5         1     orig           90.0           50   \n",
      "3               3         4x5         1     orig           90.0           50   \n",
      "4               4         4x5         1     orig           90.0           50   \n",
      "...           ...         ...       ...      ...            ...          ...   \n",
      "12543       12543         9x5         1     orig            8.9          500   \n",
      "12544       12544         9x5         1     orig            8.9          500   \n",
      "12545       12545         9x5         1     orig            8.9          500   \n",
      "12546       12546         9x5         1     orig            8.9          500   \n",
      "12547       12547         9x5         1     orig            8.9          500   \n",
      "\n",
      "            Algorithm  Avg Prediction Error  Training Size New  \n",
      "0      Best Previous1              0.160176               90.0  \n",
      "1      Best Previous2              0.118726               90.0  \n",
      "2      Best Previous3              0.136193               90.0  \n",
      "3      Best Previous1              0.170435               90.0  \n",
      "4      Best Previous2              0.082806               90.0  \n",
      "...               ...                   ...                ...  \n",
      "12543             New              0.254240               10.0  \n",
      "12544             New              0.300266               10.0  \n",
      "12545             New              0.285805               10.0  \n",
      "12546             New              0.159795               10.0  \n",
      "12547             New              0.240297               10.0  \n",
      "\n",
      "[12548 rows x 9 columns]\n"
     ]
    },
    {
     "data": {
      "image/png": "[encoded data removed]",
      "text/plain": [
       "<Figure size 597.6x288 with 1 Axes>"
      ]
     },
     "metadata": {},
     "output_type": "display_data"
    },
    {
     "data": {
      "image/png": "[encoded data removed]",
      "text/plain": [
       "<Figure size 237.6x216 with 1 Axes>"
      ]
     },
     "metadata": {},
     "output_type": "display_data"
    },
    {
     "data": {
      "image/png": "[encoded data removed]",
      "text/plain": [
       "<Figure size 237.6x216 with 1 Axes>"
      ]
     },
     "metadata": {},
     "output_type": "display_data"
    },
    {
     "data": {
      "image/png": "[encoded data removed]",
      "text/plain": [
       "<Figure size 237.6x216 with 1 Axes>"
      ]
     },
     "metadata": {},
     "output_type": "display_data"
    }
   ],
   "source": [
    "# Plot prediction error\n",
    "\n",
    "import matplotlib\n",
    "import matplotlib.pyplot as plt\n",
    "import networkx as nx\n",
    "import ast\n",
    "import numpy as np\n",
    "import os\n",
    "import pandas as pd\n",
    "import seaborn as sns\n",
    "\n",
    "# for plotting prediction error:\n",
    "sns.set(style=\"ticks\")\n",
    "df = pd.read_excel('./clean_results_old/results_new.xlsx')\n",
    "\n",
    "# only using data where we have both previous method and new method data\n",
    "df = df.dropna()\n",
    "\n",
    "df['Training Size New'] = (df['Training Size'] // 20) * 20 + 10\n",
    "print(df[df['Data Set'] == \"orig\"])\n",
    "\n",
    "fig=plt.figure(figsize=(8.3, 4.0))\n",
    "\n",
    "sns.lineplot(\n",
    "    data=df[(df['Data Set'] == \"orig\") & (df['Distance'] == 1) & (df['Training Size New'] == 70) & (df['Shadow Size'] == 500)],\n",
    "    x='System Size',\n",
    "    y='Avg Prediction Error',\n",
    "    hue='Algorithm',\n",
    "    style='Algorithm',\n",
    "    dashes=False,\n",
    "    markers=['o', 'D', 'X', 's'],\n",
    "    markersize=8.1,\n",
    "    linewidth = 2.3,\n",
    "    palette=[sns.color_palette(\"muted\")[7], sns.color_palette(\"colorblind\")[7], sns.color_palette(\"bright\")[7], sns.color_palette(\"Set2\")[2]]\n",
    ")\n",
    "\n",
    "plt.xlabel('System size (n)')\n",
    "plt.ylabel('Average prediction error')\n",
    "plt.xticks(['4x5', '5x5', '6x5', '7x5', '8x5', '9x5'])\n",
    "plt.ylim(0.0885, 0.227)\n",
    "plt.legend([],[], frameon=False)\n",
    "plt.legend(title='', labels=['Previous work (Dirichlet kernel)', 'Gaussian kernel', r'Infinite-width NN', 'This work'], ncol=4, bbox_to_anchor=(0.5, 1.5), loc=\"upper center\")\n",
    "plt.tight_layout()\n",
    "plt.savefig('./prediction_error_plots/system-size-for-legend.png', dpi=300)\n",
    "\n",
    "fig=plt.figure(figsize=(3.3, 3.0))\n",
    "\n",
    "sns.lineplot(\n",
    "    data=df[(df['Data Set'] == \"orig\") & (df['Distance'] == 1) & (df['Training Size New'] == 70) & (df['Shadow Size'] == 500)],\n",
    "    x='System Size',\n",
    "    y='Avg Prediction Error',\n",
    "    hue='Algorithm',\n",
    "    style='Algorithm',\n",
    "    dashes=False,\n",
    "    markers=['o', 'D', 'X', 's'],\n",
    "    markersize=8.1,\n",
    "    linewidth = 2.3,\n",
    "    palette=[sns.color_palette(\"muted\")[7], sns.color_palette(\"colorblind\")[7], sns.color_palette(\"bright\")[7], sns.color_palette(\"Set2\")[2]]\n",
    ")\n",
    "\n",
    "plt.xlabel('System size (n)')\n",
    "plt.ylabel('Average prediction error')\n",
    "plt.xticks(['4x5', '5x5', '6x5', '7x5', '8x5', '9x5'])\n",
    "plt.ylim(0.0885, 0.227)\n",
    "plt.legend([],[], frameon=False)\n",
    "plt.tight_layout()\n",
    "plt.savefig('./prediction_error_plots/system-size.png', dpi=300)\n",
    "\n",
    "fig=plt.figure(figsize=(3.3, 3.0))\n",
    "ax = sns.lineplot(\n",
    "    data=df[(df['Data Set'] == \"orig\") & (df['System Size'] == '9x5') & (df['Distance'] == 1) & (df['Training Size New'] == 50)],\n",
    "    x='Shadow Size',\n",
    "    y='Avg Prediction Error',\n",
    "    hue='Algorithm',\n",
    "    style='Algorithm',\n",
    "    markers=['o', 'D', 'X', 's'],\n",
    "    dashes=False,\n",
    "    markersize=8.1,\n",
    "    linewidth = 2.2,\n",
    "    palette=[sns.color_palette(\"muted\")[7], sns.color_palette(\"colorblind\")[7], sns.color_palette(\"bright\")[7], sns.color_palette(\"Set2\")[2]]\n",
    ")\n",
    "plt.xlabel(r'Measurements per system (T)')\n",
    "plt.ylabel('Average prediction error')\n",
    "plt.xscale('log')\n",
    "plt.ylim(0.0885, 0.227)\n",
    "ax.set_xticks([60, 125, 250, 500, 1000])\n",
    "ax.get_xaxis().set_major_formatter(matplotlib.ticker.ScalarFormatter())\n",
    "plt.legend([],[], frameon=False)\n",
    "#     plt.legend(title='', labels=['Previous work', 'Gaussian', r'$\\infty$-width NN', 'This work'])\n",
    "plt.tight_layout()\n",
    "plt.savefig('./prediction_error_plots/shadow-size.png', dpi=300)\n",
    "\n",
    "fig=plt.figure(figsize=(3.3, 3.0))\n",
    "sns.lineplot(\n",
    "    data=df[(df['Data Set'] == \"orig\") & (df['System Size'] == '9x5') & (df['Distance'] == 1) & (df['Shadow Size'] == 500)],\n",
    "    x='Training Size New',\n",
    "    y='Avg Prediction Error',\n",
    "    hue='Algorithm',\n",
    "    style='Algorithm',\n",
    "    markers=['o', 'D', 'X', 's'],\n",
    "    dashes=False,\n",
    "    markersize=8.5,\n",
    "    linewidth = 2.2,\n",
    "    palette=[sns.color_palette(\"muted\")[7], sns.color_palette(\"colorblind\")[7], sns.color_palette(\"bright\")[7], sns.color_palette(\"Set2\")[2]]\n",
    ")\n",
    "plt.xlabel('Training set size (N)')\n",
    "plt.ylabel('Average prediction error')\n",
    "plt.ylim(0.0885, 0.227)\n",
    "plt.legend([],[], frameon=False)\n",
    "#     plt.legend(title='', labels=['Previous work', 'Gaussian', r'$\\infty$-width NN', 'This work'])\n",
    "plt.tight_layout()\n",
    "plt.savefig('./prediction_error_plots/training-size.png', dpi=300)\n"
   ]
  },
  {
   "cell_type": "code",
   "execution_count": 4,
   "id": "6149516f",
   "metadata": {},
   "outputs": [
    {
     "name": "stderr",
     "output_type": "stream",
     "text": [
      "<ipython-input-4-7edd1da86d56>:17: RuntimeWarning: More than 20 figures have been opened. Figures created through the pyplot interface (`matplotlib.pyplot.figure`) are retained until explicitly closed and may consume too much memory. (To control this warning, see the rcParam `figure.max_open_warning`).\n",
      "  fig=plt.figure(figsize=(3.4*1.01, 3.0*1.01))\n"
     ]
    },
    {
     "data": {
      "text/plain": [
       "<Figure size 247.248x218.16 with 0 Axes>"
      ]
     },
     "metadata": {},
     "output_type": "display_data"
    },
    {
     "data": {
      "text/plain": [
       "<Figure size 247.248x218.16 with 0 Axes>"
      ]
     },
     "metadata": {},
     "output_type": "display_data"
    },
    {
     "data": {
      "text/plain": [
       "<Figure size 247.248x218.16 with 0 Axes>"
      ]
     },
     "metadata": {},
     "output_type": "display_data"
    },
    {
     "data": {
      "text/plain": [
       "<Figure size 247.248x218.16 with 0 Axes>"
      ]
     },
     "metadata": {},
     "output_type": "display_data"
    },
    {
     "data": {
      "text/plain": [
       "<Figure size 247.248x218.16 with 0 Axes>"
      ]
     },
     "metadata": {},
     "output_type": "display_data"
    },
    {
     "data": {
      "text/plain": [
       "<Figure size 247.248x218.16 with 0 Axes>"
      ]
     },
     "metadata": {},
     "output_type": "display_data"
    },
    {
     "data": {
      "text/plain": [
       "<Figure size 247.248x218.16 with 0 Axes>"
      ]
     },
     "metadata": {},
     "output_type": "display_data"
    },
    {
     "data": {
      "text/plain": [
       "<Figure size 247.248x218.16 with 0 Axes>"
      ]
     },
     "metadata": {},
     "output_type": "display_data"
    },
    {
     "data": {
      "text/plain": [
       "<Figure size 247.248x218.16 with 0 Axes>"
      ]
     },
     "metadata": {},
     "output_type": "display_data"
    },
    {
     "data": {
      "text/plain": [
       "<Figure size 247.248x218.16 with 0 Axes>"
      ]
     },
     "metadata": {},
     "output_type": "display_data"
    },
    {
     "data": {
      "text/plain": [
       "<Figure size 247.248x218.16 with 0 Axes>"
      ]
     },
     "metadata": {},
     "output_type": "display_data"
    },
    {
     "data": {
      "text/plain": [
       "<Figure size 247.248x218.16 with 0 Axes>"
      ]
     },
     "metadata": {},
     "output_type": "display_data"
    },
    {
     "data": {
      "text/plain": [
       "<Figure size 247.248x218.16 with 0 Axes>"
      ]
     },
     "metadata": {},
     "output_type": "display_data"
    },
    {
     "data": {
      "text/plain": [
       "<Figure size 247.248x218.16 with 0 Axes>"
      ]
     },
     "metadata": {},
     "output_type": "display_data"
    },
    {
     "data": {
      "text/plain": [
       "<Figure size 247.248x218.16 with 0 Axes>"
      ]
     },
     "metadata": {},
     "output_type": "display_data"
    },
    {
     "data": {
      "text/plain": [
       "<Figure size 247.248x218.16 with 0 Axes>"
      ]
     },
     "metadata": {},
     "output_type": "display_data"
    },
    {
     "data": {
      "text/plain": [
       "<Figure size 247.248x218.16 with 0 Axes>"
      ]
     },
     "metadata": {},
     "output_type": "display_data"
    },
    {
     "data": {
      "text/plain": [
       "<Figure size 247.248x218.16 with 0 Axes>"
      ]
     },
     "metadata": {},
     "output_type": "display_data"
    },
    {
     "data": {
      "text/plain": [
       "<Figure size 247.248x218.16 with 0 Axes>"
      ]
     },
     "metadata": {},
     "output_type": "display_data"
    },
    {
     "data": {
      "text/plain": [
       "<Figure size 247.248x218.16 with 0 Axes>"
      ]
     },
     "metadata": {},
     "output_type": "display_data"
    },
    {
     "data": {
      "text/plain": [
       "<Figure size 247.248x218.16 with 0 Axes>"
      ]
     },
     "metadata": {},
     "output_type": "display_data"
    },
    {
     "data": {
      "text/plain": [
       "<Figure size 247.248x218.16 with 0 Axes>"
      ]
     },
     "metadata": {},
     "output_type": "display_data"
    },
    {
     "data": {
      "text/plain": [
       "<Figure size 247.248x218.16 with 0 Axes>"
      ]
     },
     "metadata": {},
     "output_type": "display_data"
    },
    {
     "data": {
      "text/plain": [
       "<Figure size 247.248x218.16 with 0 Axes>"
      ]
     },
     "metadata": {},
     "output_type": "display_data"
    },
    {
     "data": {
      "text/plain": [
       "<Figure size 247.248x218.16 with 0 Axes>"
      ]
     },
     "metadata": {},
     "output_type": "display_data"
    },
    {
     "data": {
      "text/plain": [
       "<Figure size 247.248x218.16 with 0 Axes>"
      ]
     },
     "metadata": {},
     "output_type": "display_data"
    },
    {
     "data": {
      "text/plain": [
       "<Figure size 247.248x218.16 with 0 Axes>"
      ]
     },
     "metadata": {},
     "output_type": "display_data"
    },
    {
     "data": {
      "text/plain": [
       "<Figure size 247.248x218.16 with 0 Axes>"
      ]
     },
     "metadata": {},
     "output_type": "display_data"
    },
    {
     "data": {
      "text/plain": [
       "<Figure size 247.248x218.16 with 0 Axes>"
      ]
     },
     "metadata": {},
     "output_type": "display_data"
    },
    {
     "data": {
      "text/plain": [
       "<Figure size 247.248x218.16 with 0 Axes>"
      ]
     },
     "metadata": {},
     "output_type": "display_data"
    },
    {
     "data": {
      "text/plain": [
       "<Figure size 247.248x218.16 with 0 Axes>"
      ]
     },
     "metadata": {},
     "output_type": "display_data"
    },
    {
     "data": {
      "text/plain": [
       "<Figure size 247.248x218.16 with 0 Axes>"
      ]
     },
     "metadata": {},
     "output_type": "display_data"
    },
    {
     "data": {
      "text/plain": [
       "<Figure size 247.248x218.16 with 0 Axes>"
      ]
     },
     "metadata": {},
     "output_type": "display_data"
    },
    {
     "data": {
      "text/plain": [
       "<Figure size 247.248x218.16 with 0 Axes>"
      ]
     },
     "metadata": {},
     "output_type": "display_data"
    },
    {
     "data": {
      "text/plain": [
       "<Figure size 247.248x218.16 with 0 Axes>"
      ]
     },
     "metadata": {},
     "output_type": "display_data"
    },
    {
     "data": {
      "text/plain": [
       "<Figure size 247.248x218.16 with 0 Axes>"
      ]
     },
     "metadata": {},
     "output_type": "display_data"
    },
    {
     "data": {
      "text/plain": [
       "<Figure size 247.248x218.16 with 0 Axes>"
      ]
     },
     "metadata": {},
     "output_type": "display_data"
    },
    {
     "data": {
      "text/plain": [
       "<Figure size 247.248x218.16 with 0 Axes>"
      ]
     },
     "metadata": {},
     "output_type": "display_data"
    },
    {
     "data": {
      "text/plain": [
       "<Figure size 247.248x218.16 with 0 Axes>"
      ]
     },
     "metadata": {},
     "output_type": "display_data"
    },
    {
     "data": {
      "text/plain": [
       "<Figure size 247.248x218.16 with 0 Axes>"
      ]
     },
     "metadata": {},
     "output_type": "display_data"
    }
   ],
   "source": [
    "# Code for visualization of ML model\n",
    "\n",
    "def plot_local_region(length, width, test_size, shadow_size, data_name, d):\n",
    "    # used to plot coefficients of Lasso for new algorithm on 2D grid to visualize local region found by algorithm\n",
    "\n",
    "    q1 = 0\n",
    "    q2 = 0\n",
    "\n",
    "    f = open('./clean_results_old/new_algorithm/test_size={}_shadow_size={}_qubits_d={}/coefficients_{}x{}_{}_data.txt'.format(test_size, shadow_size, d, length, width, data_name), 'r')\n",
    "    for line in f:\n",
    "        if line[0:1] == '(':\n",
    "            q1, q2 = ast.literal_eval(line[11:-1])\n",
    "        else:\n",
    "            edge_and_coef = ast.literal_eval(line)\n",
    "            coef = np.array(list(map(lambda x : x[1], edge_and_coef)))\n",
    "\n",
    "            fig=plt.figure(figsize=(3.4*1.01, 3.0*1.01))\n",
    "            \n",
    "            G = nx.grid_2d_graph(length, width)\n",
    "\n",
    "            pos = {(x, y) : (y, -x) for x, y in G.nodes()}\n",
    "            node_to_int = {}\n",
    "            for i in range(len(G.nodes())):\n",
    "                (x, y) = list(G.nodes())[i]\n",
    "                node_to_int[(x, y)] = i + 1\n",
    "\n",
    "            edge_cmap = sns.color_palette(\"light:b\", as_cmap=True)\n",
    "            line_width = coef * 50 + 5\n",
    "            edge_color = coef * 100\n",
    "            vmin = min(edge_color)\n",
    "            vmax = max(edge_color)\n",
    "\n",
    "            # this is same order as all_edges in algorithm\n",
    "            edges = list(map(lambda e : (node_to_int[e[0]], node_to_int[e[1]]), list(G.edges())))\n",
    "\n",
    "            nx.draw_networkx_nodes(\n",
    "                G,\n",
    "                pos,\n",
    "                node_color='#FFFFFF',\n",
    "                edgecolors='#4B6392',\n",
    "                linewidths=2.3,\n",
    "                node_size=500)\n",
    "            nx.draw_networkx_edges(\n",
    "                G,\n",
    "                pos,\n",
    "                edge_cmap=edge_cmap,\n",
    "                width=line_width,\n",
    "                edge_color=edge_color,\n",
    "                edge_vmin=vmin,\n",
    "                edge_vmax=vmax)\n",
    "\n",
    "            nx.draw_networkx_labels(\n",
    "                G,\n",
    "                pos,\n",
    "                labels=node_to_int,\n",
    "                font_color='#314A7B',\n",
    "                font_family='avenir',\n",
    "                verticalalignment='center_baseline')\n",
    "\n",
    "            # creating colorbar\n",
    "            sm = plt.cm.ScalarMappable(cmap=edge_cmap, norm=plt.Normalize(vmin=vmin/100, vmax=vmax/100))\n",
    "            sm._A = []\n",
    "            plt.colorbar(sm)\n",
    "\n",
    "            ax = plt.gca()\n",
    "            ax.set_axis_off()\n",
    "            ax.margins(0.10)\n",
    "\n",
    "            plt.title('Visualizing ML for qubits {}, {}'.format(q1, q2), fontname='avenir')\n",
    "            \n",
    "            # for other plots\n",
    "            new_dir = './visualization/local_region_plots/test_size={}_shadow_size={}_{}_data_qubits_d={}_{}x{}'.format(test_size, shadow_size, data_name, d, length, width)\n",
    "            if not os.path.exists(new_dir):\n",
    "                os.makedirs(new_dir)\n",
    "            plt.tight_layout()\n",
    "            plt.savefig('{}/q1={}_q2={}.png'.format(new_dir, q1, q2), dpi=300)\n",
    "            plt.clf()\n",
    "            #plt.show()\n",
    "\n",
    "    f.close()\n",
    "\n",
    "# for plotting local region:\n",
    "length = 5\n",
    "width = 5\n",
    "test_size = 0.5\n",
    "shadow_size = 1000\n",
    "data_name = 'new'\n",
    "d = 1\n",
    "plot_local_region(length, width, test_size, shadow_size, data_name, d)\n"
   ]
  }
 ],
 "metadata": {
  "kernelspec": {
   "display_name": "base",
   "language": "python",
   "name": "python3"
  },
  "language_info": {
   "codemirror_mode": {
    "name": "ipython",
    "version": 3
   },
   "file_extension": ".py",
   "mimetype": "text/x-python",
   "name": "python",
   "nbconvert_exporter": "python",
   "pygments_lexer": "ipython3",
   "version": "3.8.3"
  },
  "vscode": {
   "interpreter": {
    "hash": "40d3a090f54c6569ab1632332b64b2c03c39dcf918b08424e98f38b5ae0af88f"
   }
  }
 },
 "nbformat": 4,
 "nbformat_minor": 5
}
