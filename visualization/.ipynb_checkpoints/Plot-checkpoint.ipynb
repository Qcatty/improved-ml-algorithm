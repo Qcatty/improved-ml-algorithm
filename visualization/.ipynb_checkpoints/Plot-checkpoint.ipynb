{
 "cells": [
  {
   "cell_type": "code",
   "execution_count": 1,
   "id": "ad777c55",
   "metadata": {},
   "outputs": [],
   "source": [
    "# This file contains functions to plot results.\n",
    "import re\n",
    "import matplotlib\n",
    "import matplotlib.pyplot as plt\n",
    "import networkx as nx\n",
    "import ast\n",
    "import numpy as np\n",
    "import os\n",
    "import pandas as pd\n",
    "import seaborn as sns\n",
    "\n",
    "pd.set_option(\"display.max_rows\", None, \"display.max_columns\", None, 'display.max_colwidth', None)\n"
   ]
  },
  {
   "cell_type": "code",
   "execution_count": 2,
   "id": "96801c80",
   "metadata": {},
   "outputs": [],
   "source": [
    "# for plotting local region:\n",
    "# length = 4\n",
    "# width = 5\n",
    "# test_size = 0.5\n",
    "# shadow_size = 1000\n",
    "# data_name = 'new'\n",
    "# d = 1\n",
    "# plot_local_region(length, width, test_size, shadow_size, data_name, d)\n",
    "\n",
    "\n",
    "# for plotting prediction error:\n",
    "sns.set(style=\"ticks\")\n",
    "df = pd.read_excel('./../clean_results/clean_results300/results_all.xlsx', index_col=0)"
   ]
  },
  {
   "cell_type": "code",
   "execution_count": 3,
   "id": "f5565fa2",
   "metadata": {},
   "outputs": [
    {
     "data": {
      "text/plain": [
       "array(['new_algorithm_celer_maxiter=10000_maxep=50000_tol=0.0001',\n",
       "       'new_algorithm_sklearn_maxiter=100000_tol=0.0001',\n",
       "       'orig_algorithm_svrtol=0.0001_ntk-norm=True_diri-inclx=True_diri-sf=4',\n",
       "       'orig_algorithm_svrtol=0.001_ntk-norm=True_diri-inclx=True_diri-sf=6',\n",
       "       'orig_algorithm_svrtol=0.001_ntk-norm=True_diri-inclx=True_diri-sf=4',\n",
       "       'orig_algorithm_svrtol=0.0001_ntk-norm=True_diri-inclx=False_diri-sf=5',\n",
       "       'new_algorithm_celer_maxiter=10000_maxep=50000_tol=0.001',\n",
       "       'new_algorithm_sklearn_maxiter=10000_tol=0.001',\n",
       "       'orig_algorithm_svrtol=0.001_ntk-norm=True_diri-inclx=False_diri-sf=5',\n",
       "       'orig_algorithm_svrtol=0.0001_ntk-norm=True_diri-inclx=True_diri-sf=6',\n",
       "       'new_algorithm_sklearn_maxiter=10000_tol=0.0001',\n",
       "       'new_algorithm_celer_maxiter=50000_maxep=50000_tol=0.0001'],\n",
       "      dtype=object)"
      ]
     },
     "execution_count": 3,
     "metadata": {},
     "output_type": "execute_result"
    }
   ],
   "source": [
    "df.algo_setting.unique()"
   ]
  },
  {
   "cell_type": "code",
   "execution_count": 4,
   "id": "c8f323f8",
   "metadata": {},
   "outputs": [],
   "source": [
    "# select only one new algo folder and one old algo folder\n",
    "selection = [\n",
    "    # for clean_results300, one new and one orig algorithm folder\n",
    "    'new_algorithm_celer_maxiter=10000_maxep=50000_tol=0.001',\n",
    "    'orig_algorithm_svrtol=0.0001_ntk-norm=True_diri-inclx=True_diri-sf=4',\n",
    "    \n",
    "    # for clean_results500, one new and one orig algorithm folder\n",
    "#     'new_algorithm_celer_maxiter=10000_maxep=50000_tol=0.01',\n",
    "#     'orig_algorithm_svrtol=0.0001_ntk-norm=True_diri-inclx=True_diri-sf=4',\n",
    "]\n",
    "df = df[df['algo_setting'].isin(selection)]"
   ]
  },
  {
   "cell_type": "code",
   "execution_count": 5,
   "id": "d6b66ebc",
   "metadata": {},
   "outputs": [
    {
     "data": {
      "text/plain": [
       "Index(['lassolib', 'maxiter', 'maxep', 'tol', 'testsize', 'shadowsize',\n",
       "       'qubitdist', 'nrow', 'ncol', 'dataname', 'path', 'algo', 'algo_setting',\n",
       "       'srvtol', 'ntknorm', 'dirinclx', 'dirsf', 'nedges', 'edges',\n",
       "       'best_cv_score_new', 'test_score_new', 'best_cv_score_dirichlet',\n",
       "       'test_score_dirichlet', 'best_cv_score_gauss', 'test_score_gauss',\n",
       "       'best_cv_score_ntk2', 'test_score_ntk2', 'best_cv_score_ntk3',\n",
       "       'test_score_ntk3', 'best_cv_score_ntk4', 'test_score_ntk4',\n",
       "       'best_cv_score_ntk5', 'test_score_ntk5', 'nsamples', 'avg_train_new',\n",
       "       'avg_test_new', 'avg_train_dirichlet', 'avg_test_dirichlet',\n",
       "       'avg_train_gauss', 'avg_test_gauss', 'avg_train_ntk2', 'avg_test_ntk2',\n",
       "       'avg_train_ntk3', 'avg_test_ntk3', 'avg_train_ntk4', 'avg_test_ntk4',\n",
       "       'avg_train_ntk5', 'avg_test_ntk5', 'avg_test_orig', 'avg_train_orig'],\n",
       "      dtype='object')"
      ]
     },
     "execution_count": 5,
     "metadata": {},
     "output_type": "execute_result"
    }
   ],
   "source": [
    "df.columns"
   ]
  },
  {
   "cell_type": "code",
   "execution_count": 6,
   "id": "1734c57a",
   "metadata": {},
   "outputs": [
    {
     "name": "stdout",
     "output_type": "stream",
     "text": [
      "Automatic pdb calling has been turned OFF\n"
     ]
    }
   ],
   "source": [
    "%pdb off\n",
    "# drop additional metrics \n",
    "df = df.drop(columns=[c for c in df.columns if 'best' in c])\n",
    "df = df.drop(columns=[c for c in df.columns if 'test_score' in c])\n",
    "df = df.drop(columns=[c for c in df.columns if 'avg_train' in c])\n",
    "\n",
    "\n",
    "# drop columns which dont vary of if there are two values and one of them is nan then also drop\n",
    "# this is the case for parameters columns of orig-algo which dont vary or \n",
    "# parameter columns of new-algo  which dont vary\n",
    "todrop = ['edges', 'path', 'nedges', 'algo_setting']\n",
    "for c in df.columns:\n",
    "    try:\n",
    "        if len(df[c].unique()) == 1:\n",
    "            todrop.append(c)\n",
    "        elif len(df[c].unique()) == 2:\n",
    "            # and one is nan , then also delete\n",
    "            if pd.isnull(df[c].unique()).any():\n",
    "                todrop.append(c)\n",
    "    except:\n",
    "        continue\n",
    "df2 = df.drop(columns=todrop)"
   ]
  },
  {
   "cell_type": "code",
   "execution_count": 7,
   "id": "b86b8d4f",
   "metadata": {},
   "outputs": [
    {
     "data": {
      "text/plain": [
       "Index(['testsize', 'shadowsize', 'qubitdist', 'nrow', 'dataname', 'algo',\n",
       "       'nsamples', 'avg_test_new', 'avg_test_dirichlet', 'avg_test_gauss',\n",
       "       'avg_test_ntk2', 'avg_test_ntk3', 'avg_test_ntk4', 'avg_test_ntk5',\n",
       "       'avg_test_orig'],\n",
       "      dtype='object')"
      ]
     },
     "execution_count": 7,
     "metadata": {},
     "output_type": "execute_result"
    }
   ],
   "source": [
    "df2.columns"
   ]
  },
  {
   "cell_type": "code",
   "execution_count": 8,
   "id": "4790447f",
   "metadata": {},
   "outputs": [
    {
     "data": {
      "text/plain": [
       "(1800, 15)"
      ]
     },
     "metadata": {},
     "output_type": "display_data"
    },
    {
     "data": {
      "text/html": [
       "<div>\n",
       "<style scoped>\n",
       "    .dataframe tbody tr th:only-of-type {\n",
       "        vertical-align: middle;\n",
       "    }\n",
       "\n",
       "    .dataframe tbody tr th {\n",
       "        vertical-align: top;\n",
       "    }\n",
       "\n",
       "    .dataframe thead th {\n",
       "        text-align: right;\n",
       "    }\n",
       "</style>\n",
       "<table border=\"1\" class=\"dataframe\">\n",
       "  <thead>\n",
       "    <tr style=\"text-align: right;\">\n",
       "      <th></th>\n",
       "      <th>testsize</th>\n",
       "      <th>shadowsize</th>\n",
       "      <th>qubitdist</th>\n",
       "      <th>nrow</th>\n",
       "      <th>dataname</th>\n",
       "      <th>algo</th>\n",
       "      <th>nsamples</th>\n",
       "      <th>avg_test_new</th>\n",
       "      <th>avg_test_dirichlet</th>\n",
       "      <th>avg_test_gauss</th>\n",
       "      <th>avg_test_ntk2</th>\n",
       "      <th>avg_test_ntk3</th>\n",
       "      <th>avg_test_ntk4</th>\n",
       "      <th>avg_test_ntk5</th>\n",
       "      <th>avg_test_orig</th>\n",
       "    </tr>\n",
       "  </thead>\n",
       "  <tbody>\n",
       "    <tr>\n",
       "      <th>1800</th>\n",
       "      <td>0.9</td>\n",
       "      <td>100</td>\n",
       "      <td>1</td>\n",
       "      <td>4</td>\n",
       "      <td>new</td>\n",
       "      <td>orig</td>\n",
       "      <td>450.0</td>\n",
       "      <td>NaN</td>\n",
       "      <td>0.201707</td>\n",
       "      <td>0.182054</td>\n",
       "      <td>0.199235</td>\n",
       "      <td>0.199155</td>\n",
       "      <td>0.199150</td>\n",
       "      <td>0.199192</td>\n",
       "      <td>0.182054</td>\n",
       "    </tr>\n",
       "    <tr>\n",
       "      <th>1801</th>\n",
       "      <td>0.9</td>\n",
       "      <td>100</td>\n",
       "      <td>1</td>\n",
       "      <td>4</td>\n",
       "      <td>orig</td>\n",
       "      <td>orig</td>\n",
       "      <td>90.0</td>\n",
       "      <td>NaN</td>\n",
       "      <td>0.221382</td>\n",
       "      <td>0.213704</td>\n",
       "      <td>0.216107</td>\n",
       "      <td>0.216003</td>\n",
       "      <td>0.215829</td>\n",
       "      <td>0.215832</td>\n",
       "      <td>0.213704</td>\n",
       "    </tr>\n",
       "    <tr>\n",
       "      <th>1802</th>\n",
       "      <td>0.9</td>\n",
       "      <td>100</td>\n",
       "      <td>1</td>\n",
       "      <td>8</td>\n",
       "      <td>new</td>\n",
       "      <td>orig</td>\n",
       "      <td>450.0</td>\n",
       "      <td>NaN</td>\n",
       "      <td>0.200050</td>\n",
       "      <td>0.189022</td>\n",
       "      <td>0.197307</td>\n",
       "      <td>0.197275</td>\n",
       "      <td>0.197255</td>\n",
       "      <td>0.197204</td>\n",
       "      <td>0.189022</td>\n",
       "    </tr>\n",
       "    <tr>\n",
       "      <th>1803</th>\n",
       "      <td>0.9</td>\n",
       "      <td>100</td>\n",
       "      <td>1</td>\n",
       "      <td>9</td>\n",
       "      <td>new</td>\n",
       "      <td>orig</td>\n",
       "      <td>450.0</td>\n",
       "      <td>NaN</td>\n",
       "      <td>0.195824</td>\n",
       "      <td>0.186331</td>\n",
       "      <td>0.192449</td>\n",
       "      <td>0.192415</td>\n",
       "      <td>0.192383</td>\n",
       "      <td>0.192396</td>\n",
       "      <td>0.186331</td>\n",
       "    </tr>\n",
       "    <tr>\n",
       "      <th>1804</th>\n",
       "      <td>0.9</td>\n",
       "      <td>100</td>\n",
       "      <td>1</td>\n",
       "      <td>9</td>\n",
       "      <td>orig</td>\n",
       "      <td>orig</td>\n",
       "      <td>80.1</td>\n",
       "      <td>NaN</td>\n",
       "      <td>0.215406</td>\n",
       "      <td>0.212847</td>\n",
       "      <td>0.214968</td>\n",
       "      <td>0.214954</td>\n",
       "      <td>0.214986</td>\n",
       "      <td>0.214994</td>\n",
       "      <td>0.212847</td>\n",
       "    </tr>\n",
       "  </tbody>\n",
       "</table>\n",
       "</div>"
      ],
      "text/plain": [
       "      testsize  shadowsize  qubitdist  nrow dataname  algo  nsamples  \\\n",
       "1800       0.9         100          1     4      new  orig     450.0   \n",
       "1801       0.9         100          1     4     orig  orig      90.0   \n",
       "1802       0.9         100          1     8      new  orig     450.0   \n",
       "1803       0.9         100          1     9      new  orig     450.0   \n",
       "1804       0.9         100          1     9     orig  orig      80.1   \n",
       "\n",
       "      avg_test_new  avg_test_dirichlet  avg_test_gauss  avg_test_ntk2  \\\n",
       "1800           NaN            0.201707        0.182054       0.199235   \n",
       "1801           NaN            0.221382        0.213704       0.216107   \n",
       "1802           NaN            0.200050        0.189022       0.197307   \n",
       "1803           NaN            0.195824        0.186331       0.192449   \n",
       "1804           NaN            0.215406        0.212847       0.214968   \n",
       "\n",
       "      avg_test_ntk3  avg_test_ntk4  avg_test_ntk5  avg_test_orig  \n",
       "1800       0.199155       0.199150       0.199192       0.182054  \n",
       "1801       0.216003       0.215829       0.215832       0.213704  \n",
       "1802       0.197275       0.197255       0.197204       0.189022  \n",
       "1803       0.192415       0.192383       0.192396       0.186331  \n",
       "1804       0.214954       0.214986       0.214994       0.212847  "
      ]
     },
     "execution_count": 8,
     "metadata": {},
     "output_type": "execute_result"
    }
   ],
   "source": [
    "display(df2.shape)\n",
    "df2.head()"
   ]
  },
  {
   "cell_type": "code",
   "execution_count": 9,
   "id": "6f713938",
   "metadata": {},
   "outputs": [],
   "source": [
    "# we need to handle the orig-algo rows differently since they contain the entries for columns \n",
    "# avg_test_dirichlet \tavg_test_gauss \tavg_test_ntk2 \tavg_test_ntk3 \tavg_test_ntk4 \tavg_test_ntk5 \tavg_test_orig\n",
    "# avg_test_orig is min of [avg_test_dirichlet,avg_test_gauss,avg_test_ntk2,avg_test_ntk3,avg_test_ntk4,avg_test_ntk5]\n",
    "df_orig = df2[df2['algo'] == 'orig']\n",
    "df_orig = df_orig.dropna(axis=1) # drop avg_test_bew col\n",
    "\n",
    "# the new alogs only have entries in the col avg_test_new\n",
    "df_new = df2[df2['algo'] == 'new']\n",
    "df_new = df_new.dropna(axis=1) # drop other metric cols"
   ]
  },
  {
   "cell_type": "code",
   "execution_count": 10,
   "id": "c2d57148",
   "metadata": {},
   "outputs": [
    {
     "data": {
      "text/html": [
       "<div>\n",
       "<style scoped>\n",
       "    .dataframe tbody tr th:only-of-type {\n",
       "        vertical-align: middle;\n",
       "    }\n",
       "\n",
       "    .dataframe tbody tr th {\n",
       "        vertical-align: top;\n",
       "    }\n",
       "\n",
       "    .dataframe thead th {\n",
       "        text-align: right;\n",
       "    }\n",
       "</style>\n",
       "<table border=\"1\" class=\"dataframe\">\n",
       "  <thead>\n",
       "    <tr style=\"text-align: right;\">\n",
       "      <th></th>\n",
       "      <th>testsize</th>\n",
       "      <th>shadowsize</th>\n",
       "      <th>qubitdist</th>\n",
       "      <th>nrow</th>\n",
       "      <th>dataname</th>\n",
       "      <th>nsamples</th>\n",
       "      <th>method</th>\n",
       "      <th>algo</th>\n",
       "      <th>avg_test</th>\n",
       "    </tr>\n",
       "  </thead>\n",
       "  <tbody>\n",
       "    <tr>\n",
       "      <th>0</th>\n",
       "      <td>0.9</td>\n",
       "      <td>100</td>\n",
       "      <td>1</td>\n",
       "      <td>4</td>\n",
       "      <td>new</td>\n",
       "      <td>450.0</td>\n",
       "      <td>dirichlet</td>\n",
       "      <td>orig</td>\n",
       "      <td>0.201707</td>\n",
       "    </tr>\n",
       "    <tr>\n",
       "      <th>1</th>\n",
       "      <td>0.9</td>\n",
       "      <td>100</td>\n",
       "      <td>1</td>\n",
       "      <td>4</td>\n",
       "      <td>new</td>\n",
       "      <td>450.0</td>\n",
       "      <td>gauss</td>\n",
       "      <td>orig</td>\n",
       "      <td>0.182054</td>\n",
       "    </tr>\n",
       "    <tr>\n",
       "      <th>2</th>\n",
       "      <td>0.9</td>\n",
       "      <td>100</td>\n",
       "      <td>1</td>\n",
       "      <td>4</td>\n",
       "      <td>new</td>\n",
       "      <td>450.0</td>\n",
       "      <td>ntk2</td>\n",
       "      <td>orig</td>\n",
       "      <td>0.199235</td>\n",
       "    </tr>\n",
       "    <tr>\n",
       "      <th>3</th>\n",
       "      <td>0.9</td>\n",
       "      <td>100</td>\n",
       "      <td>1</td>\n",
       "      <td>4</td>\n",
       "      <td>new</td>\n",
       "      <td>450.0</td>\n",
       "      <td>ntk3</td>\n",
       "      <td>orig</td>\n",
       "      <td>0.199155</td>\n",
       "    </tr>\n",
       "    <tr>\n",
       "      <th>4</th>\n",
       "      <td>0.9</td>\n",
       "      <td>100</td>\n",
       "      <td>1</td>\n",
       "      <td>4</td>\n",
       "      <td>new</td>\n",
       "      <td>450.0</td>\n",
       "      <td>ntk4</td>\n",
       "      <td>orig</td>\n",
       "      <td>0.199150</td>\n",
       "    </tr>\n",
       "  </tbody>\n",
       "</table>\n",
       "</div>"
      ],
      "text/plain": [
       "   testsize  shadowsize  qubitdist  nrow dataname  nsamples     method  algo  \\\n",
       "0       0.9         100          1     4      new     450.0  dirichlet  orig   \n",
       "1       0.9         100          1     4      new     450.0      gauss  orig   \n",
       "2       0.9         100          1     4      new     450.0       ntk2  orig   \n",
       "3       0.9         100          1     4      new     450.0       ntk3  orig   \n",
       "4       0.9         100          1     4      new     450.0       ntk4  orig   \n",
       "\n",
       "   avg_test  \n",
       "0  0.201707  \n",
       "1  0.182054  \n",
       "2  0.199235  \n",
       "3  0.199155  \n",
       "4  0.199150  "
      ]
     },
     "metadata": {},
     "output_type": "display_data"
    },
    {
     "data": {
      "text/html": [
       "<div>\n",
       "<style scoped>\n",
       "    .dataframe tbody tr th:only-of-type {\n",
       "        vertical-align: middle;\n",
       "    }\n",
       "\n",
       "    .dataframe tbody tr th {\n",
       "        vertical-align: top;\n",
       "    }\n",
       "\n",
       "    .dataframe thead th {\n",
       "        text-align: right;\n",
       "    }\n",
       "</style>\n",
       "<table border=\"1\" class=\"dataframe\">\n",
       "  <thead>\n",
       "    <tr style=\"text-align: right;\">\n",
       "      <th></th>\n",
       "      <th>testsize</th>\n",
       "      <th>shadowsize</th>\n",
       "      <th>qubitdist</th>\n",
       "      <th>nrow</th>\n",
       "      <th>dataname</th>\n",
       "      <th>algo</th>\n",
       "      <th>nsamples</th>\n",
       "      <th>avg_test</th>\n",
       "      <th>method</th>\n",
       "    </tr>\n",
       "  </thead>\n",
       "  <tbody>\n",
       "    <tr>\n",
       "      <th>5400</th>\n",
       "      <td>0.9</td>\n",
       "      <td>100</td>\n",
       "      <td>1</td>\n",
       "      <td>4</td>\n",
       "      <td>new</td>\n",
       "      <td>new</td>\n",
       "      <td>450.0</td>\n",
       "      <td>0.166530</td>\n",
       "      <td>new</td>\n",
       "    </tr>\n",
       "    <tr>\n",
       "      <th>5401</th>\n",
       "      <td>0.9</td>\n",
       "      <td>100</td>\n",
       "      <td>1</td>\n",
       "      <td>4</td>\n",
       "      <td>orig</td>\n",
       "      <td>new</td>\n",
       "      <td>90.0</td>\n",
       "      <td>0.220025</td>\n",
       "      <td>new</td>\n",
       "    </tr>\n",
       "    <tr>\n",
       "      <th>5402</th>\n",
       "      <td>0.9</td>\n",
       "      <td>100</td>\n",
       "      <td>1</td>\n",
       "      <td>8</td>\n",
       "      <td>new</td>\n",
       "      <td>new</td>\n",
       "      <td>450.0</td>\n",
       "      <td>0.168898</td>\n",
       "      <td>new</td>\n",
       "    </tr>\n",
       "    <tr>\n",
       "      <th>5403</th>\n",
       "      <td>0.9</td>\n",
       "      <td>100</td>\n",
       "      <td>1</td>\n",
       "      <td>9</td>\n",
       "      <td>new</td>\n",
       "      <td>new</td>\n",
       "      <td>450.0</td>\n",
       "      <td>0.170137</td>\n",
       "      <td>new</td>\n",
       "    </tr>\n",
       "    <tr>\n",
       "      <th>5404</th>\n",
       "      <td>0.9</td>\n",
       "      <td>100</td>\n",
       "      <td>1</td>\n",
       "      <td>9</td>\n",
       "      <td>orig</td>\n",
       "      <td>new</td>\n",
       "      <td>80.1</td>\n",
       "      <td>0.236694</td>\n",
       "      <td>new</td>\n",
       "    </tr>\n",
       "  </tbody>\n",
       "</table>\n",
       "</div>"
      ],
      "text/plain": [
       "      testsize  shadowsize  qubitdist  nrow dataname algo  nsamples  avg_test  \\\n",
       "5400       0.9         100          1     4      new  new     450.0  0.166530   \n",
       "5401       0.9         100          1     4     orig  new      90.0  0.220025   \n",
       "5402       0.9         100          1     8      new  new     450.0  0.168898   \n",
       "5403       0.9         100          1     9      new  new     450.0  0.170137   \n",
       "5404       0.9         100          1     9     orig  new      80.1  0.236694   \n",
       "\n",
       "     method  \n",
       "5400    new  \n",
       "5401    new  \n",
       "5402    new  \n",
       "5403    new  \n",
       "5404    new  "
      ]
     },
     "metadata": {},
     "output_type": "display_data"
    }
   ],
   "source": [
    "# convert table format\n",
    "# instead of storing metrics in each col seperately we merge them into one \"avg_test\" col \n",
    "# and add a second col which indicates the method: dirichlet/gauss/ntk2,3,4,5\n",
    "df_orig2 = pd.wide_to_long(df_orig, stubnames=['avg_test_'], i=['testsize', 'shadowsize', 'qubitdist', 'nrow', 'dataname', 'nsamples'], j='method', suffix=\".+\")\n",
    "df_orig2 = df_orig2.rename({'avg_test_':'avg_test'}, axis=1)\n",
    "df_orig2 = df_orig2.reset_index()\n",
    "\n",
    "display(df_orig2.head())\n",
    "\n",
    "df_new2 = df_new.rename({'avg_test_new':'avg_test'}, axis=1)\n",
    "df_new2['method'] = 'new'\n",
    "display(df_new2.head())"
   ]
  },
  {
   "cell_type": "code",
   "execution_count": 11,
   "id": "6d09a073",
   "metadata": {},
   "outputs": [
    {
     "data": {
      "text/html": [
       "<div>\n",
       "<style scoped>\n",
       "    .dataframe tbody tr th:only-of-type {\n",
       "        vertical-align: middle;\n",
       "    }\n",
       "\n",
       "    .dataframe tbody tr th {\n",
       "        vertical-align: top;\n",
       "    }\n",
       "\n",
       "    .dataframe thead th {\n",
       "        text-align: right;\n",
       "    }\n",
       "</style>\n",
       "<table border=\"1\" class=\"dataframe\">\n",
       "  <thead>\n",
       "    <tr style=\"text-align: right;\">\n",
       "      <th></th>\n",
       "      <th>testsize</th>\n",
       "      <th>shadowsize</th>\n",
       "      <th>qubitdist</th>\n",
       "      <th>nrow</th>\n",
       "      <th>dataname</th>\n",
       "      <th>algo</th>\n",
       "      <th>nsamples</th>\n",
       "      <th>avg_test</th>\n",
       "      <th>method</th>\n",
       "    </tr>\n",
       "  </thead>\n",
       "  <tbody>\n",
       "    <tr>\n",
       "      <th>5400</th>\n",
       "      <td>0.9</td>\n",
       "      <td>100</td>\n",
       "      <td>1</td>\n",
       "      <td>4</td>\n",
       "      <td>new</td>\n",
       "      <td>new</td>\n",
       "      <td>450.0</td>\n",
       "      <td>0.166530</td>\n",
       "      <td>new</td>\n",
       "    </tr>\n",
       "    <tr>\n",
       "      <th>5401</th>\n",
       "      <td>0.9</td>\n",
       "      <td>100</td>\n",
       "      <td>1</td>\n",
       "      <td>4</td>\n",
       "      <td>orig</td>\n",
       "      <td>new</td>\n",
       "      <td>90.0</td>\n",
       "      <td>0.220025</td>\n",
       "      <td>new</td>\n",
       "    </tr>\n",
       "    <tr>\n",
       "      <th>5402</th>\n",
       "      <td>0.9</td>\n",
       "      <td>100</td>\n",
       "      <td>1</td>\n",
       "      <td>8</td>\n",
       "      <td>new</td>\n",
       "      <td>new</td>\n",
       "      <td>450.0</td>\n",
       "      <td>0.168898</td>\n",
       "      <td>new</td>\n",
       "    </tr>\n",
       "    <tr>\n",
       "      <th>5403</th>\n",
       "      <td>0.9</td>\n",
       "      <td>100</td>\n",
       "      <td>1</td>\n",
       "      <td>9</td>\n",
       "      <td>new</td>\n",
       "      <td>new</td>\n",
       "      <td>450.0</td>\n",
       "      <td>0.170137</td>\n",
       "      <td>new</td>\n",
       "    </tr>\n",
       "    <tr>\n",
       "      <th>5404</th>\n",
       "      <td>0.9</td>\n",
       "      <td>100</td>\n",
       "      <td>1</td>\n",
       "      <td>9</td>\n",
       "      <td>orig</td>\n",
       "      <td>new</td>\n",
       "      <td>80.1</td>\n",
       "      <td>0.236694</td>\n",
       "      <td>new</td>\n",
       "    </tr>\n",
       "  </tbody>\n",
       "</table>\n",
       "</div>"
      ],
      "text/plain": [
       "      testsize  shadowsize  qubitdist  nrow dataname algo  nsamples  avg_test  \\\n",
       "5400       0.9         100          1     4      new  new     450.0  0.166530   \n",
       "5401       0.9         100          1     4     orig  new      90.0  0.220025   \n",
       "5402       0.9         100          1     8      new  new     450.0  0.168898   \n",
       "5403       0.9         100          1     9      new  new     450.0  0.170137   \n",
       "5404       0.9         100          1     9     orig  new      80.1  0.236694   \n",
       "\n",
       "     method  \n",
       "5400    new  \n",
       "5401    new  \n",
       "5402    new  \n",
       "5403    new  \n",
       "5404    new  "
      ]
     },
     "execution_count": 11,
     "metadata": {},
     "output_type": "execute_result"
    }
   ],
   "source": [
    "# append both tables with common structure\n",
    "df3 = df_new2.append(df_orig2) \n",
    "df3.head()"
   ]
  },
  {
   "cell_type": "code",
   "execution_count": 12,
   "id": "2688079d",
   "metadata": {},
   "outputs": [
    {
     "name": "stdout",
     "output_type": "stream",
     "text": [
      "testsize [0.9 0.3 0.7 0.1 0.5]\n",
      "shadowsize [ 100  250   50  500 1000]\n",
      "qubitdist [1 2 3]\n",
      "nrow [4 8 9 5 7 6]\n",
      "dataname ['new' 'orig']\n",
      "algo ['new' 'orig']\n",
      "nsamples [450.   90.   80.1  82.8  87.3 150.   30.   26.7  27.6  29.1 350.   70.\n",
      "  62.3  64.4  67.9  50.   10.    8.9   9.2   9.7 250.   44.5  46.   48.5]\n",
      "avg_test [0.16653045 0.22002548 0.16889848 ... 0.18584531 0.18576468 0.18579059]\n",
      "method ['new' 'dirichlet' 'gauss' 'ntk2' 'ntk3' 'ntk4' 'ntk5' 'orig']\n"
     ]
    }
   ],
   "source": [
    "for c in df3.columns:\n",
    "    print(c, df3[c].unique())"
   ]
  },
  {
   "cell_type": "code",
   "execution_count": 13,
   "id": "136b4fbc",
   "metadata": {},
   "outputs": [],
   "source": [
    "df = df3 # for the following scripts "
   ]
  },
  {
   "cell_type": "code",
   "execution_count": 22,
   "id": "8053e5bf",
   "metadata": {},
   "outputs": [
    {
     "data": {
      "text/html": [
       "<div>\n",
       "<style scoped>\n",
       "    .dataframe tbody tr th:only-of-type {\n",
       "        vertical-align: middle;\n",
       "    }\n",
       "\n",
       "    .dataframe tbody tr th {\n",
       "        vertical-align: top;\n",
       "    }\n",
       "\n",
       "    .dataframe thead th {\n",
       "        text-align: right;\n",
       "    }\n",
       "</style>\n",
       "<table border=\"1\" class=\"dataframe\">\n",
       "  <thead>\n",
       "    <tr style=\"text-align: right;\">\n",
       "      <th></th>\n",
       "      <th>testsize</th>\n",
       "      <th>shadowsize</th>\n",
       "      <th>qubitdist</th>\n",
       "      <th>nrow</th>\n",
       "      <th>dataname</th>\n",
       "      <th>algo</th>\n",
       "      <th>nsamples</th>\n",
       "      <th>avg_test</th>\n",
       "      <th>method</th>\n",
       "      <th>nsamples_new</th>\n",
       "    </tr>\n",
       "  </thead>\n",
       "  <tbody>\n",
       "    <tr>\n",
       "      <th>5401</th>\n",
       "      <td>0.9</td>\n",
       "      <td>100</td>\n",
       "      <td>1</td>\n",
       "      <td>4</td>\n",
       "      <td>orig</td>\n",
       "      <td>new</td>\n",
       "      <td>90.0</td>\n",
       "      <td>0.220025</td>\n",
       "      <td>new</td>\n",
       "      <td>90</td>\n",
       "    </tr>\n",
       "    <tr>\n",
       "      <th>5404</th>\n",
       "      <td>0.9</td>\n",
       "      <td>100</td>\n",
       "      <td>1</td>\n",
       "      <td>9</td>\n",
       "      <td>orig</td>\n",
       "      <td>new</td>\n",
       "      <td>80.1</td>\n",
       "      <td>0.236694</td>\n",
       "      <td>new</td>\n",
       "      <td>90</td>\n",
       "    </tr>\n",
       "    <tr>\n",
       "      <th>5406</th>\n",
       "      <td>0.9</td>\n",
       "      <td>100</td>\n",
       "      <td>1</td>\n",
       "      <td>8</td>\n",
       "      <td>orig</td>\n",
       "      <td>new</td>\n",
       "      <td>82.8</td>\n",
       "      <td>0.244859</td>\n",
       "      <td>new</td>\n",
       "      <td>90</td>\n",
       "    </tr>\n",
       "    <tr>\n",
       "      <th>5408</th>\n",
       "      <td>0.9</td>\n",
       "      <td>100</td>\n",
       "      <td>1</td>\n",
       "      <td>6</td>\n",
       "      <td>orig</td>\n",
       "      <td>new</td>\n",
       "      <td>87.3</td>\n",
       "      <td>0.231045</td>\n",
       "      <td>new</td>\n",
       "      <td>90</td>\n",
       "    </tr>\n",
       "    <tr>\n",
       "      <th>5409</th>\n",
       "      <td>0.9</td>\n",
       "      <td>100</td>\n",
       "      <td>1</td>\n",
       "      <td>7</td>\n",
       "      <td>orig</td>\n",
       "      <td>new</td>\n",
       "      <td>90.0</td>\n",
       "      <td>0.227918</td>\n",
       "      <td>new</td>\n",
       "      <td>90</td>\n",
       "    </tr>\n",
       "  </tbody>\n",
       "</table>\n",
       "</div>"
      ],
      "text/plain": [
       "      testsize  shadowsize  qubitdist  nrow dataname algo  nsamples  avg_test  \\\n",
       "5401       0.9         100          1     4     orig  new      90.0  0.220025   \n",
       "5404       0.9         100          1     9     orig  new      80.1  0.236694   \n",
       "5406       0.9         100          1     8     orig  new      82.8  0.244859   \n",
       "5408       0.9         100          1     6     orig  new      87.3  0.231045   \n",
       "5409       0.9         100          1     7     orig  new      90.0  0.227918   \n",
       "\n",
       "     method  nsamples_new  \n",
       "5401    new            90  \n",
       "5404    new            90  \n",
       "5406    new            90  \n",
       "5408    new            90  \n",
       "5409    new            90  "
      ]
     },
     "metadata": {},
     "output_type": "display_data"
    },
    {
     "name": "stdout",
     "output_type": "stream",
     "text": [
      "##########\n"
     ]
    },
    {
     "data": {
      "text/html": [
       "<div>\n",
       "<style scoped>\n",
       "    .dataframe tbody tr th:only-of-type {\n",
       "        vertical-align: middle;\n",
       "    }\n",
       "\n",
       "    .dataframe tbody tr th {\n",
       "        vertical-align: top;\n",
       "    }\n",
       "\n",
       "    .dataframe thead th {\n",
       "        text-align: right;\n",
       "    }\n",
       "</style>\n",
       "<table border=\"1\" class=\"dataframe\">\n",
       "  <thead>\n",
       "    <tr style=\"text-align: right;\">\n",
       "      <th></th>\n",
       "      <th>testsize</th>\n",
       "      <th>shadowsize</th>\n",
       "      <th>qubitdist</th>\n",
       "      <th>nrow</th>\n",
       "      <th>dataname</th>\n",
       "      <th>algo</th>\n",
       "      <th>nsamples</th>\n",
       "      <th>avg_test</th>\n",
       "      <th>method</th>\n",
       "      <th>nsamples_new</th>\n",
       "    </tr>\n",
       "  </thead>\n",
       "  <tbody>\n",
       "    <tr>\n",
       "      <th>5400</th>\n",
       "      <td>0.9</td>\n",
       "      <td>100</td>\n",
       "      <td>1</td>\n",
       "      <td>4</td>\n",
       "      <td>new</td>\n",
       "      <td>new</td>\n",
       "      <td>450.0</td>\n",
       "      <td>0.166530</td>\n",
       "      <td>new</td>\n",
       "      <td>450</td>\n",
       "    </tr>\n",
       "    <tr>\n",
       "      <th>5402</th>\n",
       "      <td>0.9</td>\n",
       "      <td>100</td>\n",
       "      <td>1</td>\n",
       "      <td>8</td>\n",
       "      <td>new</td>\n",
       "      <td>new</td>\n",
       "      <td>450.0</td>\n",
       "      <td>0.168898</td>\n",
       "      <td>new</td>\n",
       "      <td>450</td>\n",
       "    </tr>\n",
       "    <tr>\n",
       "      <th>5403</th>\n",
       "      <td>0.9</td>\n",
       "      <td>100</td>\n",
       "      <td>1</td>\n",
       "      <td>9</td>\n",
       "      <td>new</td>\n",
       "      <td>new</td>\n",
       "      <td>450.0</td>\n",
       "      <td>0.170137</td>\n",
       "      <td>new</td>\n",
       "      <td>450</td>\n",
       "    </tr>\n",
       "    <tr>\n",
       "      <th>5405</th>\n",
       "      <td>0.9</td>\n",
       "      <td>100</td>\n",
       "      <td>1</td>\n",
       "      <td>5</td>\n",
       "      <td>new</td>\n",
       "      <td>new</td>\n",
       "      <td>450.0</td>\n",
       "      <td>0.168298</td>\n",
       "      <td>new</td>\n",
       "      <td>450</td>\n",
       "    </tr>\n",
       "    <tr>\n",
       "      <th>5407</th>\n",
       "      <td>0.9</td>\n",
       "      <td>100</td>\n",
       "      <td>1</td>\n",
       "      <td>7</td>\n",
       "      <td>new</td>\n",
       "      <td>new</td>\n",
       "      <td>450.0</td>\n",
       "      <td>0.171259</td>\n",
       "      <td>new</td>\n",
       "      <td>450</td>\n",
       "    </tr>\n",
       "  </tbody>\n",
       "</table>\n",
       "</div>"
      ],
      "text/plain": [
       "      testsize  shadowsize  qubitdist  nrow dataname algo  nsamples  avg_test  \\\n",
       "5400       0.9         100          1     4      new  new     450.0  0.166530   \n",
       "5402       0.9         100          1     8      new  new     450.0  0.168898   \n",
       "5403       0.9         100          1     9      new  new     450.0  0.170137   \n",
       "5405       0.9         100          1     5      new  new     450.0  0.168298   \n",
       "5407       0.9         100          1     7      new  new     450.0  0.171259   \n",
       "\n",
       "     method  nsamples_new  \n",
       "5400    new           450  \n",
       "5402    new           450  \n",
       "5403    new           450  \n",
       "5405    new           450  \n",
       "5407    new           450  "
      ]
     },
     "metadata": {},
     "output_type": "display_data"
    }
   ],
   "source": [
    "# only using data where we have both previous method and new method data\n",
    "# df = df.dropna()\n",
    "\n",
    "\n",
    "#df = df.drop(columns=[\"path\", \"edges\", \"best_cv_score\", \"test_score\", \"train_mat\", \"test_mat\", \"maxep\", \"maxiter\", \"nedges\"])\n",
    "\n",
    "# for combined 3x3 plots\n",
    "# fig, axs = plt.subplots(3, 3, sharey=True, sharex='col', figsize=(15,8))\n",
    "\n",
    "# for i in range(3):\n",
    "#     for j in range(3):\n",
    "#         xaxis = ['System Size', 'Training Size', 'Shadow Size']\n",
    "#         legend = False\n",
    "#         if j == 2 and i == 2:\n",
    "#             legend = True\n",
    "#         sns.lineplot(\n",
    "#             data=df[df['Distance'] == i + 1],\n",
    "#             x=xaxis[j],\n",
    "#             y='Avg Prediction Error',\n",
    "#             style='Training Size',\n",
    "#             hue='Algorithm',\n",
    "#             marker='o',\n",
    "#             ci=None,\n",
    "#             ax=axs[i][j],\n",
    "#             legend=legend\n",
    "#         )\n",
    "# axs[0][2].set_title('Distance 1', x=1.2, y=0.4)\n",
    "# axs[1][2].set_title('Distance 2', x=1.2, y=0.4)\n",
    "# axs[2][2].set_title('Distance 3', x=1.2, y=0.4)\n",
    "\n",
    "# axs[0][2].set_xscale('log')\n",
    "# axs[0][2].set_xticks([50, 100, 250, 500, 1000])\n",
    "# axs[0][2].set_xticklabels([50, 100, 250, 500, 1000])\n",
    "\n",
    "# axs[2][2].legend(bbox_to_anchor=(1, 3.5), loc='upper left', ncol=1)\n",
    "\n",
    "# for single plots\n",
    "\n",
    "# rounding\n",
    "df['nsamples_new'] = (df['nsamples'] // 20) * 20 + 10\n",
    "df['nsamples_new'] = df['nsamples_new'].astype(int)\n",
    "display(df[df['dataname'] == \"orig\"].head())\n",
    "print('#'*10)\n",
    "display(df[df['dataname'] == \"new\"].head())"
   ]
  },
  {
   "cell_type": "code",
   "execution_count": 46,
   "id": "a86cffb6",
   "metadata": {},
   "outputs": [
    {
     "data": {
      "text/html": [
       "<div>\n",
       "<style scoped>\n",
       "    .dataframe tbody tr th:only-of-type {\n",
       "        vertical-align: middle;\n",
       "    }\n",
       "\n",
       "    .dataframe tbody tr th {\n",
       "        vertical-align: top;\n",
       "    }\n",
       "\n",
       "    .dataframe thead th {\n",
       "        text-align: right;\n",
       "    }\n",
       "</style>\n",
       "<table border=\"1\" class=\"dataframe\">\n",
       "  <thead>\n",
       "    <tr style=\"text-align: right;\">\n",
       "      <th></th>\n",
       "      <th>testsize</th>\n",
       "      <th>shadowsize</th>\n",
       "      <th>qubitdist</th>\n",
       "      <th>nrow</th>\n",
       "      <th>dataname</th>\n",
       "      <th>algo</th>\n",
       "      <th>nsamples</th>\n",
       "      <th>avg_test</th>\n",
       "      <th>method</th>\n",
       "      <th>nsamples_new</th>\n",
       "    </tr>\n",
       "  </thead>\n",
       "  <tbody>\n",
       "    <tr>\n",
       "      <th>5808</th>\n",
       "      <td>0.3</td>\n",
       "      <td>500</td>\n",
       "      <td>1</td>\n",
       "      <td>4</td>\n",
       "      <td>new</td>\n",
       "      <td>new</td>\n",
       "      <td>150.0</td>\n",
       "      <td>0.076897</td>\n",
       "      <td>new</td>\n",
       "      <td>150</td>\n",
       "    </tr>\n",
       "    <tr>\n",
       "      <th>5810</th>\n",
       "      <td>0.3</td>\n",
       "      <td>500</td>\n",
       "      <td>1</td>\n",
       "      <td>8</td>\n",
       "      <td>new</td>\n",
       "      <td>new</td>\n",
       "      <td>150.0</td>\n",
       "      <td>0.079940</td>\n",
       "      <td>new</td>\n",
       "      <td>150</td>\n",
       "    </tr>\n",
       "    <tr>\n",
       "      <th>5811</th>\n",
       "      <td>0.3</td>\n",
       "      <td>500</td>\n",
       "      <td>1</td>\n",
       "      <td>9</td>\n",
       "      <td>new</td>\n",
       "      <td>new</td>\n",
       "      <td>150.0</td>\n",
       "      <td>0.081223</td>\n",
       "      <td>new</td>\n",
       "      <td>150</td>\n",
       "    </tr>\n",
       "    <tr>\n",
       "      <th>5813</th>\n",
       "      <td>0.3</td>\n",
       "      <td>500</td>\n",
       "      <td>1</td>\n",
       "      <td>5</td>\n",
       "      <td>new</td>\n",
       "      <td>new</td>\n",
       "      <td>150.0</td>\n",
       "      <td>0.082481</td>\n",
       "      <td>new</td>\n",
       "      <td>150</td>\n",
       "    </tr>\n",
       "    <tr>\n",
       "      <th>5815</th>\n",
       "      <td>0.3</td>\n",
       "      <td>500</td>\n",
       "      <td>1</td>\n",
       "      <td>7</td>\n",
       "      <td>new</td>\n",
       "      <td>new</td>\n",
       "      <td>150.0</td>\n",
       "      <td>0.080929</td>\n",
       "      <td>new</td>\n",
       "      <td>150</td>\n",
       "    </tr>\n",
       "  </tbody>\n",
       "</table>\n",
       "</div>"
      ],
      "text/plain": [
       "      testsize  shadowsize  qubitdist  nrow dataname algo  nsamples  avg_test  \\\n",
       "5808       0.3         500          1     4      new  new     150.0  0.076897   \n",
       "5810       0.3         500          1     8      new  new     150.0  0.079940   \n",
       "5811       0.3         500          1     9      new  new     150.0  0.081223   \n",
       "5813       0.3         500          1     5      new  new     150.0  0.082481   \n",
       "5815       0.3         500          1     7      new  new     150.0  0.080929   \n",
       "\n",
       "     method  nsamples_new  \n",
       "5808    new           150  \n",
       "5810    new           150  \n",
       "5811    new           150  \n",
       "5813    new           150  \n",
       "5815    new           150  "
      ]
     },
     "metadata": {},
     "output_type": "display_data"
    },
    {
     "data": {
      "image/png": "[encoded data removed]",
      "text/plain": [
       "<Figure size 597.6x288 with 1 Axes>"
      ]
     },
     "metadata": {},
     "output_type": "display_data"
    }
   ],
   "source": [
    "fig=plt.figure(figsize=(8.3, 4.0))\n",
    "\n",
    "# just consider ntk2 for now\n",
    "dftemp = df[(df['dataname'] == \"new\") & (df['qubitdist'] == 1) & (df['nsamples_new'] == 150) & (df['shadowsize'] == 500) & ((df['method'] == 'dirichlet') | (df['method'] == 'gauss') | (df['method'] == 'ntk2') | (df['method'] == 'new'))]\n",
    "display(dftemp.head())\n",
    "\n",
    "sns.lineplot(\n",
    "    data=dftemp,\n",
    "    x='nrow',\n",
    "    y='avg_test',\n",
    "    hue='method',\n",
    "    style='method',\n",
    "    dashes=False,\n",
    "    markers=['o', 'D', 'X', 's'],\n",
    "    markersize=8.1,\n",
    "    linewidth = 2.3,\n",
    "    palette=[sns.color_palette(\"Set2\")[2], sns.color_palette(\"muted\")[7], sns.color_palette(\"colorblind\")[7], sns.color_palette(\"bright\")[7]]\n",
    ")\n",
    "plt.xlabel('System size (n)')\n",
    "plt.ylabel('Average prediction error')\n",
    "plt.xticks([4, 5, 6, 7, 8, 9])\n",
    "plt.ylim(0.05, 0.227)\n",
    "plt.legend([],[], frameon=False)\n",
    "plt.legend(title='', labels=['This work', 'Previous work (Dirichlet kernel)', 'Gaussian kernel', r'Infinite-width NN (ntk2)'], ncol=4, bbox_to_anchor=(0.5, 1.5), loc='upper center')\n",
    "plt.tight_layout()\n",
    "plt.savefig('system-size-for-legend.png', dpi=300)\n"
   ]
  },
  {
   "cell_type": "code",
   "execution_count": 47,
   "id": "2d9b5a83",
   "metadata": {},
   "outputs": [
    {
     "data": {
      "image/png": "[encoded data removed]",
      "text/plain": [
       "<Figure size 237.6x216 with 1 Axes>"
      ]
     },
     "metadata": {},
     "output_type": "display_data"
    }
   ],
   "source": [
    "fig=plt.figure(figsize=(3.3, 3.0))\n",
    "\n",
    "sns.lineplot(\n",
    "    data=dftemp,\n",
    "    x='nrow',\n",
    "    y='avg_test',\n",
    "    hue='method',\n",
    "    style='method',\n",
    "    dashes=False,\n",
    "    markers=['o', 'D', 'X', 's'],\n",
    "    markersize=8.1,\n",
    "    linewidth = 2.3,\n",
    "    palette=[sns.color_palette(\"Set2\")[2], sns.color_palette(\"muted\")[7], sns.color_palette(\"colorblind\")[7], sns.color_palette(\"bright\")[7]]\n",
    ")\n",
    "\n",
    "plt.xlabel('System size (n)')\n",
    "plt.ylabel('Average prediction error')\n",
    "plt.xticks([4, 5, 6, 7, 8, 9])\n",
    "plt.ylim(0.05, 0.227)\n",
    "plt.legend([],[], frameon=False)\n",
    "plt.tight_layout()\n",
    "plt.savefig('system-size.png', dpi=300)"
   ]
  },
  {
   "cell_type": "code",
   "execution_count": 48,
   "id": "154039be",
   "metadata": {},
   "outputs": [
    {
     "data": {
      "image/png": "[encoded data removed]",
      "text/plain": [
       "<Figure size 237.6x216 with 1 Axes>"
      ]
     },
     "metadata": {},
     "output_type": "display_data"
    }
   ],
   "source": [
    "fig=plt.figure(figsize=(3.3, 3.0))\n",
    "\n",
    "dftemp2 = df[(df['dataname'] == \"new\") & (df['nrow'] == 9) & (df['qubitdist'] == 1) & (df['nsamples_new'] == 150) & ((df['method'] == 'dirichlet') | (df['method'] == 'gauss') | (df['method'] == 'ntk2') | (df['method'] == 'new'))]\n",
    "\n",
    "ax = sns.lineplot(\n",
    "    data=dftemp2,\n",
    "    x='shadowsize',\n",
    "    y='avg_test',\n",
    "    hue='method',\n",
    "    style='method',\n",
    "    markers=['o', 'D', 'X', 's'],\n",
    "    dashes=False,\n",
    "    markersize=8.1,\n",
    "    linewidth = 2.2,\n",
    "    palette=[sns.color_palette(\"Set2\")[2], sns.color_palette(\"muted\")[7], sns.color_palette(\"colorblind\")[7], sns.color_palette(\"bright\")[7]]\n",
    ")\n",
    "plt.xlabel(r'Measurements per system (T)')\n",
    "plt.ylabel('Average prediction error')\n",
    "plt.xscale('log')\n",
    "plt.ylim(0.05, 0.227)\n",
    "ax.set_xticks([60, 125, 250, 500, 1000])\n",
    "ax.get_xaxis().set_major_formatter(matplotlib.ticker.ScalarFormatter())\n",
    "plt.legend([],[], frameon=False)\n",
    "plt.tight_layout()\n",
    "plt.savefig('shadow-size.png', dpi=300)"
   ]
  },
  {
   "cell_type": "code",
   "execution_count": 43,
   "id": "bd4ed3fb",
   "metadata": {},
   "outputs": [
    {
     "data": {
      "image/png": "[encoded data removed]",
      "text/plain": [
       "<Figure size 237.6x216 with 1 Axes>"
      ]
     },
     "metadata": {},
     "output_type": "display_data"
    }
   ],
   "source": [
    "fig=plt.figure(figsize=(3.3, 3.0))\n",
    "\n",
    "dftemp3 = df[(df['dataname'] == \"new\") & (df['nrow'] == 9) & (df['qubitdist'] == 1) & (df['shadowsize'] == 500) & ((df['method'] == 'dirichlet') | (df['method'] == 'gauss') | (df['method'] == 'ntk2') | (df['method'] == 'new'))]\n",
    "\n",
    "sns.lineplot(\n",
    "    data=dftemp3,\n",
    "    x='nsamples_new',\n",
    "    y='avg_test',\n",
    "    hue='method',\n",
    "    style='method',\n",
    "    markers=['o', 'D', 'X', 's'],\n",
    "    dashes=False,\n",
    "    markersize=8.5,\n",
    "    linewidth = 2.2,\n",
    "    palette=[sns.color_palette(\"Set2\")[2], sns.color_palette(\"muted\")[7], sns.color_palette(\"colorblind\")[7], sns.color_palette(\"bright\")[7]]\n",
    ")\n",
    "plt.xlabel('Training set size (N)')\n",
    "plt.ylabel('Average prediction error')\n",
    "plt.ylim(0.05, 0.227)\n",
    "plt.legend([],[], frameon=False)\n",
    "plt.tight_layout()\n",
    "plt.savefig('training-size.png', dpi=300)"
   ]
  },
  {
   "cell_type": "code",
   "execution_count": 44,
   "id": "6dba5aab",
   "metadata": {},
   "outputs": [
    {
     "name": "stdout",
     "output_type": "stream",
     "text": [
      "Automatic pdb calling has been turned ON\n"
     ]
    }
   ],
   "source": [
    "%pdb on\n",
    "def plot_local_region(length, width, test_size, shadow_size, data_name, d, root_dir, algo_name):\n",
    "    # used to plot coefficients of Lasso for new algorithm on 2D grid to visualize local region found by algorithm\n",
    "\n",
    "    q1 = 0\n",
    "    q2 = 0\n",
    "    \n",
    "    pattern_fix = \"array\\((\\[[ \\d]+, [ \\d]+\\])\\)\" # need this pattern to fix coefficients files\n",
    "\n",
    "    # all other files\n",
    "    ####################################################\n",
    "    # need to adapt \n",
    "    ####################################################\n",
    "    f = open('./../{}/{}/test_size={}_shadow_size={}_qubits_d={}/coefficients_{}x{}_{}_data.txt'.format(root_dir, algo_name, test_size, shadow_size, d, length, width, data_name), 'r')\n",
    "    for line in f:\n",
    "        if line[0:1] == '(':\n",
    "            q1, q2 = ast.literal_eval(line[11:-1])\n",
    "        else:\n",
    "            # since accidently we dont write out the edges as tuple but as array we need to fix that!\n",
    "            line = re.sub(pattern_fix, r'\\1', line)\n",
    "            edge_and_coef = ast.literal_eval(line)\n",
    "            coef = np.array(list(map(lambda x : x[1], edge_and_coef)))\n",
    "\n",
    "            fig=plt.figure(figsize=(3.4*1.01, 3.0*1.01))\n",
    "            \n",
    "            G = nx.grid_2d_graph(length, width)\n",
    "\n",
    "            pos = {(x, y) : (y, -x) for x, y in G.nodes()}\n",
    "            node_to_int = {}\n",
    "            for i in range(len(G.nodes())):\n",
    "                (x, y) = list(G.nodes())[i]\n",
    "                node_to_int[(x, y)] = i + 1\n",
    "\n",
    "            edge_cmap = sns.color_palette(\"light:b\", as_cmap=True)\n",
    "            line_width = coef * 50 + 5\n",
    "            edge_color = coef * 100\n",
    "            vmin = min(edge_color)\n",
    "            vmax = max(edge_color)\n",
    "\n",
    "            # this is same order as all_edges in algorithm\n",
    "            edges = list(map(lambda e : (node_to_int[e[0]], node_to_int[e[1]]), list(G.edges())))\n",
    "\n",
    "            nx.draw_networkx_nodes(\n",
    "                G,\n",
    "                pos,\n",
    "                node_color='#FFFFFF',\n",
    "                edgecolors='#4B6392',\n",
    "                linewidths=2.3,\n",
    "                node_size=500)\n",
    "            nx.draw_networkx_edges(\n",
    "                G,\n",
    "                pos,\n",
    "                edge_cmap=edge_cmap,\n",
    "                width=line_width,\n",
    "                edge_color=edge_color,\n",
    "                edge_vmin=vmin,\n",
    "                edge_vmax=vmax)\n",
    "\n",
    "            nx.draw_networkx_labels(\n",
    "                G,\n",
    "                pos,\n",
    "                labels=node_to_int,\n",
    "                font_color='#314A7B',\n",
    "                font_family='avenir',\n",
    "                verticalalignment='center_baseline')\n",
    "\n",
    "            # creating colorbar\n",
    "            sm = plt.cm.ScalarMappable(cmap=edge_cmap, norm=plt.Normalize(vmin=vmin/100, vmax=vmax/100))\n",
    "            sm._A = []\n",
    "            plt.colorbar(sm)\n",
    "\n",
    "            ax = plt.gca()\n",
    "            ax.set_axis_off()\n",
    "            ax.margins(0.10)\n",
    "\n",
    "            plt.title('Visualizing ML for qubits {}, {}'.format(q1, q2), fontname='avenir')\n",
    " \n",
    "            # for other plots\n",
    "            new_dir = './local_region_plots/new_test_size={}_shadow_size={}_{}_data_qubits_d={}_{}x{}'.format(test_size, shadow_size, data_name, d, length, width)\n",
    "            if not os.path.exists(new_dir):\n",
    "                os.makedirs(new_dir)\n",
    "            plt.tight_layout()\n",
    "            plt.savefig('{}/q1={}_q2={}.png'.format(new_dir, q1, q2), dpi=300)\n",
    "            plt.clf()\n",
    "            plt.show()\n",
    "\n",
    "    f.close()"
   ]
  },
  {
   "cell_type": "code",
   "execution_count": 45,
   "id": "a2ce266a",
   "metadata": {},
   "outputs": [
    {
     "data": {
      "text/plain": [
       "<Figure size 247.248x218.16 with 0 Axes>"
      ]
     },
     "metadata": {},
     "output_type": "display_data"
    },
    {
     "data": {
      "text/plain": [
       "<Figure size 247.248x218.16 with 0 Axes>"
      ]
     },
     "metadata": {},
     "output_type": "display_data"
    },
    {
     "data": {
      "text/plain": [
       "<Figure size 247.248x218.16 with 0 Axes>"
      ]
     },
     "metadata": {},
     "output_type": "display_data"
    },
    {
     "data": {
      "text/plain": [
       "<Figure size 247.248x218.16 with 0 Axes>"
      ]
     },
     "metadata": {},
     "output_type": "display_data"
    },
    {
     "data": {
      "text/plain": [
       "<Figure size 247.248x218.16 with 0 Axes>"
      ]
     },
     "metadata": {},
     "output_type": "display_data"
    },
    {
     "data": {
      "text/plain": [
       "<Figure size 247.248x218.16 with 0 Axes>"
      ]
     },
     "metadata": {},
     "output_type": "display_data"
    },
    {
     "data": {
      "text/plain": [
       "<Figure size 247.248x218.16 with 0 Axes>"
      ]
     },
     "metadata": {},
     "output_type": "display_data"
    },
    {
     "data": {
      "text/plain": [
       "<Figure size 247.248x218.16 with 0 Axes>"
      ]
     },
     "metadata": {},
     "output_type": "display_data"
    },
    {
     "data": {
      "text/plain": [
       "<Figure size 247.248x218.16 with 0 Axes>"
      ]
     },
     "metadata": {},
     "output_type": "display_data"
    },
    {
     "data": {
      "text/plain": [
       "<Figure size 247.248x218.16 with 0 Axes>"
      ]
     },
     "metadata": {},
     "output_type": "display_data"
    },
    {
     "data": {
      "text/plain": [
       "<Figure size 247.248x218.16 with 0 Axes>"
      ]
     },
     "metadata": {},
     "output_type": "display_data"
    },
    {
     "data": {
      "text/plain": [
       "<Figure size 247.248x218.16 with 0 Axes>"
      ]
     },
     "metadata": {},
     "output_type": "display_data"
    },
    {
     "data": {
      "text/plain": [
       "<Figure size 247.248x218.16 with 0 Axes>"
      ]
     },
     "metadata": {},
     "output_type": "display_data"
    },
    {
     "data": {
      "text/plain": [
       "<Figure size 247.248x218.16 with 0 Axes>"
      ]
     },
     "metadata": {},
     "output_type": "display_data"
    },
    {
     "data": {
      "text/plain": [
       "<Figure size 247.248x218.16 with 0 Axes>"
      ]
     },
     "metadata": {},
     "output_type": "display_data"
    },
    {
     "data": {
      "text/plain": [
       "<Figure size 247.248x218.16 with 0 Axes>"
      ]
     },
     "metadata": {},
     "output_type": "display_data"
    },
    {
     "data": {
      "text/plain": [
       "<Figure size 247.248x218.16 with 0 Axes>"
      ]
     },
     "metadata": {},
     "output_type": "display_data"
    },
    {
     "data": {
      "text/plain": [
       "<Figure size 247.248x218.16 with 0 Axes>"
      ]
     },
     "metadata": {},
     "output_type": "display_data"
    },
    {
     "data": {
      "text/plain": [
       "<Figure size 247.248x218.16 with 0 Axes>"
      ]
     },
     "metadata": {},
     "output_type": "display_data"
    },
    {
     "data": {
      "text/plain": [
       "<Figure size 247.248x218.16 with 0 Axes>"
      ]
     },
     "metadata": {},
     "output_type": "display_data"
    },
    {
     "data": {
      "text/plain": [
       "<Figure size 247.248x218.16 with 0 Axes>"
      ]
     },
     "metadata": {},
     "output_type": "display_data"
    },
    {
     "data": {
      "text/plain": [
       "<Figure size 247.248x218.16 with 0 Axes>"
      ]
     },
     "metadata": {},
     "output_type": "display_data"
    },
    {
     "data": {
      "text/plain": [
       "<Figure size 247.248x218.16 with 0 Axes>"
      ]
     },
     "metadata": {},
     "output_type": "display_data"
    },
    {
     "data": {
      "text/plain": [
       "<Figure size 247.248x218.16 with 0 Axes>"
      ]
     },
     "metadata": {},
     "output_type": "display_data"
    },
    {
     "data": {
      "text/plain": [
       "<Figure size 247.248x218.16 with 0 Axes>"
      ]
     },
     "metadata": {},
     "output_type": "display_data"
    },
    {
     "data": {
      "text/plain": [
       "<Figure size 247.248x218.16 with 0 Axes>"
      ]
     },
     "metadata": {},
     "output_type": "display_data"
    },
    {
     "data": {
      "text/plain": [
       "<Figure size 247.248x218.16 with 0 Axes>"
      ]
     },
     "metadata": {},
     "output_type": "display_data"
    },
    {
     "data": {
      "text/plain": [
       "<Figure size 247.248x218.16 with 0 Axes>"
      ]
     },
     "metadata": {},
     "output_type": "display_data"
    },
    {
     "data": {
      "text/plain": [
       "<Figure size 247.248x218.16 with 0 Axes>"
      ]
     },
     "metadata": {},
     "output_type": "display_data"
    },
    {
     "data": {
      "text/plain": [
       "<Figure size 247.248x218.16 with 0 Axes>"
      ]
     },
     "metadata": {},
     "output_type": "display_data"
    },
    {
     "data": {
      "text/plain": [
       "<Figure size 247.248x218.16 with 0 Axes>"
      ]
     },
     "metadata": {},
     "output_type": "display_data"
    },
    {
     "data": {
      "text/plain": [
       "<Figure size 247.248x218.16 with 0 Axes>"
      ]
     },
     "metadata": {},
     "output_type": "display_data"
    },
    {
     "data": {
      "text/plain": [
       "<Figure size 247.248x218.16 with 0 Axes>"
      ]
     },
     "metadata": {},
     "output_type": "display_data"
    },
    {
     "data": {
      "text/plain": [
       "<Figure size 247.248x218.16 with 0 Axes>"
      ]
     },
     "metadata": {},
     "output_type": "display_data"
    },
    {
     "data": {
      "text/plain": [
       "<Figure size 247.248x218.16 with 0 Axes>"
      ]
     },
     "metadata": {},
     "output_type": "display_data"
    },
    {
     "data": {
      "text/plain": [
       "<Figure size 247.248x218.16 with 0 Axes>"
      ]
     },
     "metadata": {},
     "output_type": "display_data"
    },
    {
     "data": {
      "text/plain": [
       "<Figure size 247.248x218.16 with 0 Axes>"
      ]
     },
     "metadata": {},
     "output_type": "display_data"
    },
    {
     "data": {
      "text/plain": [
       "<Figure size 247.248x218.16 with 0 Axes>"
      ]
     },
     "metadata": {},
     "output_type": "display_data"
    },
    {
     "data": {
      "text/plain": [
       "<Figure size 247.248x218.16 with 0 Axes>"
      ]
     },
     "metadata": {},
     "output_type": "display_data"
    },
    {
     "data": {
      "text/plain": [
       "<Figure size 247.248x218.16 with 0 Axes>"
      ]
     },
     "metadata": {},
     "output_type": "display_data"
    }
   ],
   "source": [
    "# for plotting local region:\n",
    "length = 5\n",
    "width = 5\n",
    "test_size = 0.5\n",
    "shadow_size = 1000\n",
    "data_name = 'new'\n",
    "root_dir = 'clean_results/clean_results300'\n",
    "algo_name = [s for s in selection if s.startswith('new')][0]\n",
    "d = 1\n",
    "plot_local_region(length, width, test_size, shadow_size, data_name, d, root_dir, algo_name)"
   ]
  },
  {
   "cell_type": "code",
   "execution_count": null,
   "id": "7ae8f79d",
   "metadata": {},
   "outputs": [],
   "source": []
  }
 ],
 "metadata": {
  "kernelspec": {
   "display_name": "Python 3",
   "language": "python",
   "name": "python3"
  },
  "language_info": {
   "codemirror_mode": {
    "name": "ipython",
    "version": 3
   },
   "file_extension": ".py",
   "mimetype": "text/x-python",
   "name": "python",
   "nbconvert_exporter": "python",
   "pygments_lexer": "ipython3",
   "version": "3.8.3"
  }
 },
 "nbformat": 4,
 "nbformat_minor": 5
}
