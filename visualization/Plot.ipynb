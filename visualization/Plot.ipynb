{
 "cells": [
  {
   "cell_type": "code",
   "execution_count": 24,
   "id": "5e403f69",
   "metadata": {},
   "outputs": [
    {
     "name": "stdout",
     "output_type": "stream",
     "text": [
      "      Unnamed: 0     algo dataname  ncol  nrow  qubitdist  shadowsize  \\\n",
      "4              4    celer      new     5     4          2         250   \n",
      "5              5    celer      new     5     5          2         250   \n",
      "7              7    celer      new     5     7          2         250   \n",
      "9              9    celer      new     5     8          2         250   \n",
      "10            10    celer      new     5     9          2         250   \n",
      "...          ...      ...      ...   ...   ...        ...         ...   \n",
      "5393        5393  sklearn      new     5     5          2          50   \n",
      "5395        5395  sklearn      new     5     7          2          50   \n",
      "5397        5397  sklearn      new     5     8          2          50   \n",
      "5398        5398  sklearn      new     5     9          2          50   \n",
      "5399        5399  sklearn      new     5     6          2          50   \n",
      "\n",
      "      testsize     tol  nsamples  avg_train  avg_test  nsamples_new  \n",
      "4          0.5  0.0001     250.0   0.118445  0.056468           250  \n",
      "5          0.5  0.0001     250.0   0.120878  0.058387           250  \n",
      "7          0.5  0.0001     250.0   0.121605  0.057381           250  \n",
      "9          0.5  0.0001     250.0   0.119590  0.056704           250  \n",
      "10         0.5  0.0001     250.0   0.120800  0.057536           250  \n",
      "...        ...     ...       ...        ...       ...           ...  \n",
      "5393       0.9  0.0010     450.0   0.238199  0.107096           450  \n",
      "5395       0.9  0.0010     450.0   0.237481  0.120074           450  \n",
      "5397       0.9  0.0010     450.0   0.251443  0.121349           450  \n",
      "5398       0.9  0.0010     450.0   0.242171  0.123999           450  \n",
      "5399       0.9  0.0010     450.0   0.241189  0.119278           450  \n",
      "\n",
      "[2700 rows x 13 columns]\n",
      "      Unnamed: 0     algo dataname  ncol  nrow  qubitdist  shadowsize  \\\n",
      "796          796    celer      new     5     4          1         500   \n",
      "797          797    celer      new     5     5          1         500   \n",
      "799          799    celer      new     5     7          1         500   \n",
      "801          801    celer      new     5     8          1         500   \n",
      "802          802    celer      new     5     9          1         500   \n",
      "803          803    celer      new     5     6          1         500   \n",
      "1696        1696  sklearn      new     5     4          1         500   \n",
      "1697        1697  sklearn      new     5     5          1         500   \n",
      "1699        1699  sklearn      new     5     7          1         500   \n",
      "1701        1701  sklearn      new     5     8          1         500   \n",
      "1702        1702  sklearn      new     5     9          1         500   \n",
      "1703        1703  sklearn      new     5     6          1         500   \n",
      "2596        2596  sklearn      new     5     4          1         500   \n",
      "2597        2597  sklearn      new     5     5          1         500   \n",
      "2599        2599  sklearn      new     5     7          1         500   \n",
      "2601        2601  sklearn      new     5     8          1         500   \n",
      "2602        2602  sklearn      new     5     9          1         500   \n",
      "2603        2603  sklearn      new     5     6          1         500   \n",
      "3496        3496    celer      new     5     4          1         500   \n",
      "3497        3497    celer      new     5     5          1         500   \n",
      "3499        3499    celer      new     5     7          1         500   \n",
      "3501        3501    celer      new     5     8          1         500   \n",
      "3502        3502    celer      new     5     9          1         500   \n",
      "3503        3503    celer      new     5     6          1         500   \n",
      "4396        4396    celer      new     5     4          1         500   \n",
      "4397        4397    celer      new     5     5          1         500   \n",
      "4399        4399    celer      new     5     7          1         500   \n",
      "4401        4401    celer      new     5     8          1         500   \n",
      "4402        4402    celer      new     5     9          1         500   \n",
      "4403        4403    celer      new     5     6          1         500   \n",
      "5296        5296  sklearn      new     5     4          1         500   \n",
      "5297        5297  sklearn      new     5     5          1         500   \n",
      "5299        5299  sklearn      new     5     7          1         500   \n",
      "5301        5301  sklearn      new     5     8          1         500   \n",
      "5302        5302  sklearn      new     5     9          1         500   \n",
      "5303        5303  sklearn      new     5     6          1         500   \n",
      "\n",
      "      testsize     tol  nsamples  avg_train  avg_test  nsamples_new  \n",
      "796        0.3  0.0001     150.0   0.107987  0.076993           150  \n",
      "797        0.3  0.0001     150.0   0.111309  0.082610           150  \n",
      "799        0.3  0.0001     150.0   0.110124  0.080825           150  \n",
      "801        0.3  0.0001     150.0   0.109861  0.079930           150  \n",
      "802        0.3  0.0001     150.0   0.108448  0.081207           150  \n",
      "803        0.3  0.0001     150.0   0.110140  0.081125           150  \n",
      "1696       0.3  0.0001     150.0   0.107983  0.077003           150  \n",
      "1697       0.3  0.0001     150.0   0.111313  0.082556           150  \n",
      "1699       0.3  0.0001     150.0   0.110120  0.080835           150  \n",
      "1701       0.3  0.0001     150.0   0.109858  0.079855           150  \n",
      "1702       0.3  0.0001     150.0   0.108449  0.081215           150  \n",
      "1703       0.3  0.0001     150.0   0.110140  0.081123           150  \n",
      "2596       0.3  0.0001     150.0   0.107983  0.077003           150  \n",
      "2597       0.3  0.0001     150.0   0.111313  0.082556           150  \n",
      "2599       0.3  0.0001     150.0   0.110120  0.080835           150  \n",
      "2601       0.3  0.0001     150.0   0.109858  0.079855           150  \n",
      "2602       0.3  0.0001     150.0   0.108449  0.081215           150  \n",
      "2603       0.3  0.0001     150.0   0.110140  0.081123           150  \n",
      "3496       0.3  0.0001     150.0   0.107987  0.076993           150  \n",
      "3497       0.3  0.0001     150.0   0.111309  0.082610           150  \n",
      "3499       0.3  0.0001     150.0   0.110124  0.080825           150  \n",
      "3501       0.3  0.0001     150.0   0.109861  0.079930           150  \n",
      "3502       0.3  0.0001     150.0   0.108448  0.081207           150  \n",
      "3503       0.3  0.0001     150.0   0.110140  0.081125           150  \n",
      "4396       0.3  0.0010     150.0   0.107982  0.076897           150  \n",
      "4397       0.3  0.0010     150.0   0.111327  0.082481           150  \n",
      "4399       0.3  0.0010     150.0   0.110125  0.080929           150  \n",
      "4401       0.3  0.0010     150.0   0.109864  0.079940           150  \n",
      "4402       0.3  0.0010     150.0   0.108447  0.081223           150  \n",
      "4403       0.3  0.0010     150.0   0.110138  0.081152           150  \n",
      "5296       0.3  0.0010     150.0   0.107985  0.076896           150  \n",
      "5297       0.3  0.0010     150.0   0.111317  0.082494           150  \n",
      "5299       0.3  0.0010     150.0   0.110115  0.080926           150  \n",
      "5301       0.3  0.0010     150.0   0.109858  0.079828           150  \n",
      "5302       0.3  0.0010     150.0   0.108441  0.081180           150  \n",
      "5303       0.3  0.0010     150.0   0.110150  0.081104           150  \n"
     ]
    },
    {
     "data": {
      "image/png": "[encoded data removed]",
      "text/plain": [
       "<Figure size 597.6x288 with 1 Axes>"
      ]
     },
     "metadata": {},
     "output_type": "display_data"
    },
    {
     "data": {
      "image/png": "[encoded data removed]",
      "text/plain": [
       "<Figure size 237.6x216 with 1 Axes>"
      ]
     },
     "metadata": {},
     "output_type": "display_data"
    },
    {
     "data": {
      "image/png": "[encoded data removed]",
      "text/plain": [
       "<Figure size 237.6x216 with 1 Axes>"
      ]
     },
     "metadata": {},
     "output_type": "display_data"
    },
    {
     "data": {
      "image/png": "[encoded data removed]",
      "text/plain": [
       "<Figure size 237.6x216 with 1 Axes>"
      ]
     },
     "metadata": {},
     "output_type": "display_data"
    }
   ],
   "source": [
    "# This file contains functions to plot results.\n",
    "\n",
    "import matplotlib\n",
    "import matplotlib.pyplot as plt\n",
    "import networkx as nx\n",
    "import ast\n",
    "import numpy as np\n",
    "import os\n",
    "import pandas as pd\n",
    "import seaborn as sns\n",
    "\n",
    "if __name__ == '__main__':\n",
    "    # for plotting local region:\n",
    "    # length = 4\n",
    "    # width = 5\n",
    "    # test_size = 0.5\n",
    "    # shadow_size = 1000\n",
    "    # data_name = 'new'\n",
    "    # d = 1\n",
    "    # plot_local_region(length, width, test_size, shadow_size, data_name, d)\n",
    "\n",
    "\n",
    "    # for plotting prediction error:\n",
    "    sns.set(style=\"ticks\")\n",
    "    df = pd.read_excel('./../clean_results/results_all.xlsx')\n",
    "\n",
    "    # only using data where we have both previous method and new method data\n",
    "    # df = df.dropna()\n",
    "    \n",
    "    df = df.drop(columns=[\"path\", \"edges\", \"best_cv_score\", \"test_score\", \"train_mat\", \"test_mat\", \"maxep\", \"maxiter\", \"nedges\"])\n",
    "\n",
    "    # for combined 3x3 plots\n",
    "    # fig, axs = plt.subplots(3, 3, sharey=True, sharex='col', figsize=(15,8))\n",
    "    \n",
    "    # for i in range(3):\n",
    "    #     for j in range(3):\n",
    "    #         xaxis = ['System Size', 'Training Size', 'Shadow Size']\n",
    "    #         legend = False\n",
    "    #         if j == 2 and i == 2:\n",
    "    #             legend = True\n",
    "    #         sns.lineplot(\n",
    "    #             data=df[df['Distance'] == i + 1],\n",
    "    #             x=xaxis[j],\n",
    "    #             y='Avg Prediction Error',\n",
    "    #             style='Training Size',\n",
    "    #             hue='Algorithm',\n",
    "    #             marker='o',\n",
    "    #             ci=None,\n",
    "    #             ax=axs[i][j],\n",
    "    #             legend=legend\n",
    "    #         )\n",
    "    # axs[0][2].set_title('Distance 1', x=1.2, y=0.4)\n",
    "    # axs[1][2].set_title('Distance 2', x=1.2, y=0.4)\n",
    "    # axs[2][2].set_title('Distance 3', x=1.2, y=0.4)\n",
    "\n",
    "    # axs[0][2].set_xscale('log')\n",
    "    # axs[0][2].set_xticks([50, 100, 250, 500, 1000])\n",
    "    # axs[0][2].set_xticklabels([50, 100, 250, 500, 1000])\n",
    "\n",
    "    # axs[2][2].legend(bbox_to_anchor=(1, 3.5), loc='upper left', ncol=1)\n",
    "\n",
    "    # for single plots\n",
    "\n",
    "    # rounding\n",
    "    df['nsamples_new'] = (df['nsamples'] // 20) * 20 + 10\n",
    "    df['nsamples_new'] = df['nsamples_new'].astype(int)\n",
    "    print(df[df['dataname'] == \"new\"])\n",
    "    \n",
    "    fig=plt.figure(figsize=(8.3, 4.0))\n",
    "    \n",
    "    print(df[(df['dataname'] == \"new\") & (df['qubitdist'] == 1) & (df['nsamples_new'] == 150) & (df['shadowsize'] == 500)])\n",
    "    \n",
    "    sns.lineplot(\n",
    "        data=df[(df['dataname'] == \"new\") & (df['qubitdist'] == 1) & (df['nsamples_new'] == 150) & (df['shadowsize'] == 500)],\n",
    "        x='nrow',\n",
    "        y='avg_test',\n",
    "        hue='algo',\n",
    "        style='algo',\n",
    "        dashes=False,\n",
    "        #markers=['o', 'D', 'X', 's'],\n",
    "        markers=['o', 'D'],\n",
    "        markersize=8.1,\n",
    "        linewidth = 2.3,\n",
    "        #palette=[sns.color_palette(\"muted\")[7], sns.color_palette(\"colorblind\")[7], sns.color_palette(\"bright\")[7], sns.color_palette(\"Set2\")[2]]\n",
    "        palette=[sns.color_palette(\"muted\")[7], sns.color_palette(\"Set2\")[2]]\n",
    "    )\n",
    "    \n",
    "    plt.xlabel('System size (n)')\n",
    "    plt.ylabel('Average prediction error')\n",
    "    plt.xticks([4, 5, 6, 7, 8, 9])\n",
    "    plt.ylim(0.0885, 0.227)\n",
    "    plt.legend([],[], frameon=False)\n",
    "    #plt.legend(title='', labels=['Previous work (Dirichlet kernel)', 'Gaussian kernel', r'Infinite-width NN', 'This work'], ncol=4, bbox_to_anchor=(0.5, 1.5), loc='upper center')\n",
    "    plt.legend(title='', labels=['celer', 'sklearn'], ncol=4, bbox_to_anchor=(0.5, 1.5), loc='upper center')\n",
    "    plt.tight_layout()\n",
    "    plt.savefig('system-size-for-legend.png', dpi=300)\n",
    "\n",
    "    fig=plt.figure(figsize=(3.3, 3.0))\n",
    "    \n",
    "    sns.lineplot(\n",
    "        data=df[(df['dataname'] == \"new\") & (df['qubitdist'] == 1) & (df['nsamples_new'] == 150) & (df['shadowsize'] == 500)],\n",
    "        x='nrow',\n",
    "        y='avg_test',\n",
    "        hue='algo',\n",
    "        style='algo',\n",
    "        dashes=False,\n",
    "        markers=['o', 'D'],\n",
    "        markersize=8.1,\n",
    "        linewidth = 2.3,\n",
    "        palette=[sns.color_palette(\"muted\")[7], sns.color_palette(\"Set2\")[2]]\n",
    "    )\n",
    "    \n",
    "    plt.xlabel('System size (n)')\n",
    "    plt.ylabel('Average prediction error')\n",
    "    plt.xticks([4, 5, 6, 7, 8, 9])\n",
    "    plt.ylim(0.0885, 0.227)\n",
    "    plt.legend([],[], frameon=False)\n",
    "    plt.tight_layout()\n",
    "    plt.savefig('system-size.png', dpi=300)\n",
    "    \n",
    "    fig=plt.figure(figsize=(3.3, 3.0))\n",
    "    ax = sns.lineplot(\n",
    "        data=df[(df['dataname'] == \"new\") & (df['nrow'] == '9') & (df['qubitdist'] == 1) & (df['nsamples_new'] == 150)],\n",
    "        x='shadowsize',\n",
    "        y='avg_test',\n",
    "        hue='algo',\n",
    "        style='algo',\n",
    "        markers=['o', 'D'],\n",
    "        dashes=False,\n",
    "        markersize=8.1,\n",
    "        linewidth = 2.2,\n",
    "        palette=[sns.color_palette(\"muted\")[7], sns.color_palette(\"Set2\")[2]]\n",
    "    )\n",
    "    plt.xlabel(r'Measurements per system (T)')\n",
    "    plt.ylabel('Average prediction error')\n",
    "    plt.xscale('log')\n",
    "    plt.ylim(0.0885, 0.227)\n",
    "    ax.set_xticks([60, 125, 250, 500, 1000])\n",
    "    ax.get_xaxis().set_major_formatter(matplotlib.ticker.ScalarFormatter())\n",
    "    plt.legend([],[], frameon=False)\n",
    "#     plt.legend(title='', labels=['Previous work', 'Gaussian', r'$\\infty$-width NN', 'This work'])\n",
    "    plt.tight_layout()\n",
    "    plt.savefig('shadow-size.png', dpi=300)\n",
    "    \n",
    "    fig=plt.figure(figsize=(3.3, 3.0))\n",
    "    sns.lineplot(\n",
    "        data=df[(df['dataname'] == \"orig\") & (df['nrow'] == '9') & (df['qubitdist'] == 1) & (df['shadowsize'] == 500)],\n",
    "        x='nsamples_new',\n",
    "        y='avg_test',\n",
    "        hue='algo',\n",
    "        style='algo',\n",
    "        markers=['o', 'D'],\n",
    "        dashes=False,\n",
    "        markersize=8.5,\n",
    "        linewidth = 2.2,\n",
    "        palette=[sns.color_palette(\"muted\")[7], sns.color_palette(\"Set2\")[2]]\n",
    "    )\n",
    "    plt.xlabel('Training set size (N)')\n",
    "    plt.ylabel('Average prediction error')\n",
    "    plt.ylim(0.0885, 0.227)\n",
    "    plt.legend([],[], frameon=False)\n",
    "#     plt.legend(title='', labels=['Previous work', 'Gaussian', r'$\\infty$-width NN', 'This work'])\n",
    "    plt.tight_layout()\n",
    "    plt.savefig('training-size.png', dpi=300)\n"
   ]
  },
  {
   "cell_type": "code",
   "execution_count": 6,
   "id": "16af5e85",
   "metadata": {},
   "outputs": [
    {
     "name": "stderr",
     "output_type": "stream",
     "text": [
      "<ipython-input-6-46075e98b455>:19: RuntimeWarning: More than 20 figures have been opened. Figures created through the pyplot interface (`matplotlib.pyplot.figure`) are retained until explicitly closed and may consume too much memory. (To control this warning, see the rcParam `figure.max_open_warning`).\n",
      "  fig=plt.figure(figsize=(3.4*1.01, 3.0*1.01))\n"
     ]
    },
    {
     "data": {
      "text/plain": [
       "<Figure size 247.248x218.16 with 0 Axes>"
      ]
     },
     "metadata": {},
     "output_type": "display_data"
    },
    {
     "data": {
      "text/plain": [
       "<Figure size 247.248x218.16 with 0 Axes>"
      ]
     },
     "metadata": {},
     "output_type": "display_data"
    },
    {
     "data": {
      "text/plain": [
       "<Figure size 247.248x218.16 with 0 Axes>"
      ]
     },
     "metadata": {},
     "output_type": "display_data"
    },
    {
     "data": {
      "text/plain": [
       "<Figure size 247.248x218.16 with 0 Axes>"
      ]
     },
     "metadata": {},
     "output_type": "display_data"
    },
    {
     "data": {
      "text/plain": [
       "<Figure size 247.248x218.16 with 0 Axes>"
      ]
     },
     "metadata": {},
     "output_type": "display_data"
    },
    {
     "data": {
      "text/plain": [
       "<Figure size 247.248x218.16 with 0 Axes>"
      ]
     },
     "metadata": {},
     "output_type": "display_data"
    },
    {
     "data": {
      "text/plain": [
       "<Figure size 247.248x218.16 with 0 Axes>"
      ]
     },
     "metadata": {},
     "output_type": "display_data"
    },
    {
     "data": {
      "text/plain": [
       "<Figure size 247.248x218.16 with 0 Axes>"
      ]
     },
     "metadata": {},
     "output_type": "display_data"
    },
    {
     "data": {
      "text/plain": [
       "<Figure size 247.248x218.16 with 0 Axes>"
      ]
     },
     "metadata": {},
     "output_type": "display_data"
    },
    {
     "data": {
      "text/plain": [
       "<Figure size 247.248x218.16 with 0 Axes>"
      ]
     },
     "metadata": {},
     "output_type": "display_data"
    },
    {
     "data": {
      "text/plain": [
       "<Figure size 247.248x218.16 with 0 Axes>"
      ]
     },
     "metadata": {},
     "output_type": "display_data"
    },
    {
     "data": {
      "text/plain": [
       "<Figure size 247.248x218.16 with 0 Axes>"
      ]
     },
     "metadata": {},
     "output_type": "display_data"
    },
    {
     "data": {
      "text/plain": [
       "<Figure size 247.248x218.16 with 0 Axes>"
      ]
     },
     "metadata": {},
     "output_type": "display_data"
    },
    {
     "data": {
      "text/plain": [
       "<Figure size 247.248x218.16 with 0 Axes>"
      ]
     },
     "metadata": {},
     "output_type": "display_data"
    },
    {
     "data": {
      "text/plain": [
       "<Figure size 247.248x218.16 with 0 Axes>"
      ]
     },
     "metadata": {},
     "output_type": "display_data"
    },
    {
     "data": {
      "text/plain": [
       "<Figure size 247.248x218.16 with 0 Axes>"
      ]
     },
     "metadata": {},
     "output_type": "display_data"
    },
    {
     "data": {
      "text/plain": [
       "<Figure size 247.248x218.16 with 0 Axes>"
      ]
     },
     "metadata": {},
     "output_type": "display_data"
    },
    {
     "data": {
      "text/plain": [
       "<Figure size 247.248x218.16 with 0 Axes>"
      ]
     },
     "metadata": {},
     "output_type": "display_data"
    },
    {
     "data": {
      "text/plain": [
       "<Figure size 247.248x218.16 with 0 Axes>"
      ]
     },
     "metadata": {},
     "output_type": "display_data"
    },
    {
     "data": {
      "text/plain": [
       "<Figure size 247.248x218.16 with 0 Axes>"
      ]
     },
     "metadata": {},
     "output_type": "display_data"
    },
    {
     "data": {
      "text/plain": [
       "<Figure size 247.248x218.16 with 0 Axes>"
      ]
     },
     "metadata": {},
     "output_type": "display_data"
    },
    {
     "data": {
      "text/plain": [
       "<Figure size 247.248x218.16 with 0 Axes>"
      ]
     },
     "metadata": {},
     "output_type": "display_data"
    },
    {
     "data": {
      "text/plain": [
       "<Figure size 247.248x218.16 with 0 Axes>"
      ]
     },
     "metadata": {},
     "output_type": "display_data"
    },
    {
     "data": {
      "text/plain": [
       "<Figure size 247.248x218.16 with 0 Axes>"
      ]
     },
     "metadata": {},
     "output_type": "display_data"
    },
    {
     "data": {
      "text/plain": [
       "<Figure size 247.248x218.16 with 0 Axes>"
      ]
     },
     "metadata": {},
     "output_type": "display_data"
    },
    {
     "data": {
      "text/plain": [
       "<Figure size 247.248x218.16 with 0 Axes>"
      ]
     },
     "metadata": {},
     "output_type": "display_data"
    },
    {
     "data": {
      "text/plain": [
       "<Figure size 247.248x218.16 with 0 Axes>"
      ]
     },
     "metadata": {},
     "output_type": "display_data"
    },
    {
     "data": {
      "text/plain": [
       "<Figure size 247.248x218.16 with 0 Axes>"
      ]
     },
     "metadata": {},
     "output_type": "display_data"
    },
    {
     "data": {
      "text/plain": [
       "<Figure size 247.248x218.16 with 0 Axes>"
      ]
     },
     "metadata": {},
     "output_type": "display_data"
    },
    {
     "data": {
      "text/plain": [
       "<Figure size 247.248x218.16 with 0 Axes>"
      ]
     },
     "metadata": {},
     "output_type": "display_data"
    },
    {
     "data": {
      "text/plain": [
       "<Figure size 247.248x218.16 with 0 Axes>"
      ]
     },
     "metadata": {},
     "output_type": "display_data"
    },
    {
     "data": {
      "text/plain": [
       "<Figure size 247.248x218.16 with 0 Axes>"
      ]
     },
     "metadata": {},
     "output_type": "display_data"
    },
    {
     "data": {
      "text/plain": [
       "<Figure size 247.248x218.16 with 0 Axes>"
      ]
     },
     "metadata": {},
     "output_type": "display_data"
    },
    {
     "data": {
      "text/plain": [
       "<Figure size 247.248x218.16 with 0 Axes>"
      ]
     },
     "metadata": {},
     "output_type": "display_data"
    },
    {
     "data": {
      "text/plain": [
       "<Figure size 247.248x218.16 with 0 Axes>"
      ]
     },
     "metadata": {},
     "output_type": "display_data"
    },
    {
     "data": {
      "text/plain": [
       "<Figure size 247.248x218.16 with 0 Axes>"
      ]
     },
     "metadata": {},
     "output_type": "display_data"
    },
    {
     "data": {
      "text/plain": [
       "<Figure size 247.248x218.16 with 0 Axes>"
      ]
     },
     "metadata": {},
     "output_type": "display_data"
    },
    {
     "data": {
      "text/plain": [
       "<Figure size 247.248x218.16 with 0 Axes>"
      ]
     },
     "metadata": {},
     "output_type": "display_data"
    },
    {
     "data": {
      "text/plain": [
       "<Figure size 247.248x218.16 with 0 Axes>"
      ]
     },
     "metadata": {},
     "output_type": "display_data"
    },
    {
     "data": {
      "text/plain": [
       "<Figure size 247.248x218.16 with 0 Axes>"
      ]
     },
     "metadata": {},
     "output_type": "display_data"
    }
   ],
   "source": [
    "\n",
    "def plot_local_region(length, width, test_size, shadow_size, data_name, d):\n",
    "    # used to plot coefficients of Lasso for new algorithm on 2D grid to visualize local region found by algorithm\n",
    "\n",
    "    q1 = 0\n",
    "    q2 = 0\n",
    "\n",
    "    # linear regression file\n",
    "    #f = open('./../clean_results/test_size=0.5_shadow_size=1000_orig_data_qubits_d=2_linear_regression/coefficients_4x5.txt', 'r')\n",
    "\n",
    "    # all other files\n",
    "    f = open('./../clean_results/new_algorithm/test_size={}_shadow_size={}_qubits_d={}/coefficients_{}x{}_{}_data.txt'.format(test_size, shadow_size, d, length, width, data_name), 'r')\n",
    "    for line in f:\n",
    "        if line[0:1] == '(':\n",
    "            q1, q2 = ast.literal_eval(line[11:-1])\n",
    "        else:\n",
    "            edge_and_coef = ast.literal_eval(line)\n",
    "            coef = np.array(list(map(lambda x : x[1], edge_and_coef)))\n",
    "\n",
    "            fig=plt.figure(figsize=(3.4*1.01, 3.0*1.01))\n",
    "            \n",
    "            G = nx.grid_2d_graph(length, width)\n",
    "\n",
    "            pos = {(x, y) : (y, -x) for x, y in G.nodes()}\n",
    "            node_to_int = {}\n",
    "            for i in range(len(G.nodes())):\n",
    "                (x, y) = list(G.nodes())[i]\n",
    "                node_to_int[(x, y)] = i + 1\n",
    "\n",
    "            edge_cmap = sns.color_palette(\"light:b\", as_cmap=True)\n",
    "            line_width = coef * 50 + 5\n",
    "            edge_color = coef * 100\n",
    "            vmin = min(edge_color)\n",
    "            vmax = max(edge_color)\n",
    "\n",
    "            # this is same order as all_edges in algorithm\n",
    "            edges = list(map(lambda e : (node_to_int[e[0]], node_to_int[e[1]]), list(G.edges())))\n",
    "\n",
    "            nx.draw_networkx_nodes(\n",
    "                G,\n",
    "                pos,\n",
    "                node_color='#FFFFFF',\n",
    "                edgecolors='#4B6392',\n",
    "                linewidths=2.3,\n",
    "                node_size=500)\n",
    "            nx.draw_networkx_edges(\n",
    "                G,\n",
    "                pos,\n",
    "                edge_cmap=edge_cmap,\n",
    "                width=line_width,\n",
    "                edge_color=edge_color,\n",
    "                edge_vmin=vmin,\n",
    "                edge_vmax=vmax)\n",
    "\n",
    "            nx.draw_networkx_labels(\n",
    "                G,\n",
    "                pos,\n",
    "                labels=node_to_int,\n",
    "                font_color='#314A7B',\n",
    "                font_family='avenir',\n",
    "                verticalalignment='center_baseline')\n",
    "\n",
    "            # creating colorbar\n",
    "            sm = plt.cm.ScalarMappable(cmap=edge_cmap, norm=plt.Normalize(vmin=vmin/100, vmax=vmax/100))\n",
    "            sm._A = []\n",
    "            plt.colorbar(sm)\n",
    "\n",
    "            ax = plt.gca()\n",
    "            ax.set_axis_off()\n",
    "            ax.margins(0.10)\n",
    "\n",
    "            plt.title('Visualizing ML for qubits {}, {}'.format(q1, q2), fontname='avenir')\n",
    "            \n",
    "            # for linear regression test plots\n",
    "            #plt.savefig('./plots/test_plots_test_size=0.5_shadow_size=1000_orig_data_qubits_d=2_4x5_linear_regression/q1={}_q2={}.png'.format(q1, q2), dpi=300)\n",
    "\n",
    "            # for other plots\n",
    "            new_dir = './local_region_plots/final_test_size={}_shadow_size={}_{}_data_qubits_d={}_{}x{}'.format(test_size, shadow_size, data_name, d, length, width)\n",
    "            if not os.path.exists(new_dir):\n",
    "                os.makedirs(new_dir)\n",
    "            plt.tight_layout()\n",
    "            plt.savefig('{}/q1={}_q2={}.png'.format(new_dir, q1, q2), dpi=300)\n",
    "            plt.clf()\n",
    "            #plt.show()\n",
    "\n",
    "    f.close()\n",
    "\n",
    "# for plotting local region:\n",
    "length = 5\n",
    "width = 5\n",
    "test_size = 0.5\n",
    "shadow_size = 1000\n",
    "data_name = 'new'\n",
    "d = 1\n",
    "plot_local_region(length, width, test_size, shadow_size, data_name, d)\n"
   ]
  },
  {
   "cell_type": "code",
   "execution_count": null,
   "id": "09aa01fb",
   "metadata": {},
   "outputs": [],
   "source": []
  }
 ],
 "metadata": {
  "kernelspec": {
   "display_name": "Python 3",
   "language": "python",
   "name": "python3"
  },
  "language_info": {
   "codemirror_mode": {
    "name": "ipython",
    "version": 3
   },
   "file_extension": ".py",
   "mimetype": "text/x-python",
   "name": "python",
   "nbconvert_exporter": "python",
   "pygments_lexer": "ipython3",
   "version": "3.8.3"
  }
 },
 "nbformat": 4,
 "nbformat_minor": 5
}
